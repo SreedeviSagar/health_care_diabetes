{
 "cells": [
  {
   "cell_type": "markdown",
   "id": "6f53d886-49e0-4cbb-be68-c5735875767c",
   "metadata": {},
   "source": [
    "#### Import the libraries"
   ]
  },
  {
   "cell_type": "code",
   "execution_count": 1,
   "id": "1a83d941-afe8-415a-bfd7-41c9619a6126",
   "metadata": {},
   "outputs": [],
   "source": [
    "import pandas as pd\n",
    "import numpy as np\n",
    "import seaborn as sns\n",
    "import datetime as dt\n",
    "import matplotlib.pyplot as plt\n",
    "%matplotlib inline"
   ]
  },
  {
   "cell_type": "code",
   "execution_count": 2,
   "id": "f79ce793-25e9-4117-bba2-e5302ffb26e6",
   "metadata": {},
   "outputs": [],
   "source": [
    "from sklearn.preprocessing import StandardScaler, MinMaxScaler\n",
    "from sklearn.model_selection import train_test_split\n",
    "from sklearn.model_selection import RandomizedSearchCV,GridSearchCV,cross_val_score\n",
    "from sklearn import metrics"
   ]
  },
  {
   "cell_type": "code",
   "execution_count": 3,
   "id": "deb21b9a-b092-463b-acfc-e9f379619763",
   "metadata": {},
   "outputs": [],
   "source": [
    "from sklearn.ensemble import RandomForestClassifier\n",
    "from sklearn.metrics import mean_squared_error,mean_absolute_error\n",
    "from sklearn.metrics import accuracy_score\n",
    "from sklearn.metrics import confusion_matrix\n",
    "from sklearn.metrics import classification_report\n",
    "import pickle"
   ]
  },
  {
   "cell_type": "code",
   "execution_count": 4,
   "id": "d5b8372a-b61c-45aa-8fa8-bb1d0c177722",
   "metadata": {},
   "outputs": [],
   "source": [
    "import warnings\n",
    "warnings.filterwarnings('ignore')"
   ]
  },
  {
   "cell_type": "code",
   "execution_count": 5,
   "id": "5ed6c7a1-174f-4e38-a187-fb680522a539",
   "metadata": {},
   "outputs": [],
   "source": [
    "#read the dataset\n",
    "df_dataset=pd.read_csv(\"health care diabetes.csv\")"
   ]
  },
  {
   "cell_type": "code",
   "execution_count": 6,
   "id": "bd14e7e7-48dc-4796-bb5c-8f71448b7d9f",
   "metadata": {},
   "outputs": [
    {
     "data": {
      "text/plain": [
       "pandas.core.frame.DataFrame"
      ]
     },
     "execution_count": 6,
     "metadata": {},
     "output_type": "execute_result"
    }
   ],
   "source": [
    "type(df_dataset)"
   ]
  },
  {
   "cell_type": "code",
   "execution_count": 7,
   "id": "ebf0d926-6831-46c7-aaa9-5543ee245237",
   "metadata": {},
   "outputs": [
    {
     "name": "stdout",
     "output_type": "stream",
     "text": [
      "<class 'pandas.core.frame.DataFrame'>\n",
      "RangeIndex: 768 entries, 0 to 767\n",
      "Data columns (total 9 columns):\n",
      " #   Column                    Non-Null Count  Dtype  \n",
      "---  ------                    --------------  -----  \n",
      " 0   Pregnancies               768 non-null    int64  \n",
      " 1   Glucose                   768 non-null    int64  \n",
      " 2   BloodPressure             768 non-null    int64  \n",
      " 3   SkinThickness             768 non-null    int64  \n",
      " 4   Insulin                   768 non-null    int64  \n",
      " 5   BMI                       768 non-null    float64\n",
      " 6   DiabetesPedigreeFunction  768 non-null    float64\n",
      " 7   Age                       768 non-null    int64  \n",
      " 8   Outcome                   768 non-null    int64  \n",
      "dtypes: float64(2), int64(7)\n",
      "memory usage: 54.1 KB\n"
     ]
    }
   ],
   "source": [
    "#concise summary of dataframe\n",
    "df_dataset.info()"
   ]
  },
  {
   "cell_type": "code",
   "execution_count": 8,
   "id": "040e3ad5-960c-42d2-8cff-e22f46e4d72b",
   "metadata": {},
   "outputs": [],
   "source": [
    "#convert all the variables to same datatype as float\n",
    "for column in df_dataset:\n",
    "    df_dataset[column]=df_dataset[column].astype('float64')    "
   ]
  },
  {
   "cell_type": "code",
   "execution_count": 9,
   "id": "5719a293-84a9-4086-b896-ad0b3bcbad28",
   "metadata": {},
   "outputs": [
    {
     "data": {
      "text/html": [
       "<div>\n",
       "<style scoped>\n",
       "    .dataframe tbody tr th:only-of-type {\n",
       "        vertical-align: middle;\n",
       "    }\n",
       "\n",
       "    .dataframe tbody tr th {\n",
       "        vertical-align: top;\n",
       "    }\n",
       "\n",
       "    .dataframe thead th {\n",
       "        text-align: right;\n",
       "    }\n",
       "</style>\n",
       "<table border=\"1\" class=\"dataframe\">\n",
       "  <thead>\n",
       "    <tr style=\"text-align: right;\">\n",
       "      <th></th>\n",
       "      <th>Pregnancies</th>\n",
       "      <th>Glucose</th>\n",
       "      <th>BloodPressure</th>\n",
       "      <th>SkinThickness</th>\n",
       "      <th>Insulin</th>\n",
       "      <th>BMI</th>\n",
       "      <th>DiabetesPedigreeFunction</th>\n",
       "      <th>Age</th>\n",
       "      <th>Outcome</th>\n",
       "    </tr>\n",
       "  </thead>\n",
       "  <tbody>\n",
       "    <tr>\n",
       "      <th>0</th>\n",
       "      <td>6.0</td>\n",
       "      <td>148.0</td>\n",
       "      <td>72.0</td>\n",
       "      <td>35.0</td>\n",
       "      <td>0.0</td>\n",
       "      <td>33.6</td>\n",
       "      <td>0.627</td>\n",
       "      <td>50.0</td>\n",
       "      <td>1.0</td>\n",
       "    </tr>\n",
       "    <tr>\n",
       "      <th>1</th>\n",
       "      <td>1.0</td>\n",
       "      <td>85.0</td>\n",
       "      <td>66.0</td>\n",
       "      <td>29.0</td>\n",
       "      <td>0.0</td>\n",
       "      <td>26.6</td>\n",
       "      <td>0.351</td>\n",
       "      <td>31.0</td>\n",
       "      <td>0.0</td>\n",
       "    </tr>\n",
       "    <tr>\n",
       "      <th>2</th>\n",
       "      <td>8.0</td>\n",
       "      <td>183.0</td>\n",
       "      <td>64.0</td>\n",
       "      <td>0.0</td>\n",
       "      <td>0.0</td>\n",
       "      <td>23.3</td>\n",
       "      <td>0.672</td>\n",
       "      <td>32.0</td>\n",
       "      <td>1.0</td>\n",
       "    </tr>\n",
       "    <tr>\n",
       "      <th>3</th>\n",
       "      <td>1.0</td>\n",
       "      <td>89.0</td>\n",
       "      <td>66.0</td>\n",
       "      <td>23.0</td>\n",
       "      <td>94.0</td>\n",
       "      <td>28.1</td>\n",
       "      <td>0.167</td>\n",
       "      <td>21.0</td>\n",
       "      <td>0.0</td>\n",
       "    </tr>\n",
       "    <tr>\n",
       "      <th>4</th>\n",
       "      <td>0.0</td>\n",
       "      <td>137.0</td>\n",
       "      <td>40.0</td>\n",
       "      <td>35.0</td>\n",
       "      <td>168.0</td>\n",
       "      <td>43.1</td>\n",
       "      <td>2.288</td>\n",
       "      <td>33.0</td>\n",
       "      <td>1.0</td>\n",
       "    </tr>\n",
       "  </tbody>\n",
       "</table>\n",
       "</div>"
      ],
      "text/plain": [
       "   Pregnancies  Glucose  BloodPressure  SkinThickness  Insulin   BMI  \\\n",
       "0          6.0    148.0           72.0           35.0      0.0  33.6   \n",
       "1          1.0     85.0           66.0           29.0      0.0  26.6   \n",
       "2          8.0    183.0           64.0            0.0      0.0  23.3   \n",
       "3          1.0     89.0           66.0           23.0     94.0  28.1   \n",
       "4          0.0    137.0           40.0           35.0    168.0  43.1   \n",
       "\n",
       "   DiabetesPedigreeFunction   Age  Outcome  \n",
       "0                     0.627  50.0      1.0  \n",
       "1                     0.351  31.0      0.0  \n",
       "2                     0.672  32.0      1.0  \n",
       "3                     0.167  21.0      0.0  \n",
       "4                     2.288  33.0      1.0  "
      ]
     },
     "execution_count": 9,
     "metadata": {},
     "output_type": "execute_result"
    }
   ],
   "source": [
    "#display the first five rows of dataframe\n",
    "df_dataset.head()"
   ]
  },
  {
   "cell_type": "code",
   "execution_count": 10,
   "id": "675a3b86-c478-4d6a-851e-5c5fe53db498",
   "metadata": {},
   "outputs": [
    {
     "data": {
      "text/html": [
       "<div>\n",
       "<style scoped>\n",
       "    .dataframe tbody tr th:only-of-type {\n",
       "        vertical-align: middle;\n",
       "    }\n",
       "\n",
       "    .dataframe tbody tr th {\n",
       "        vertical-align: top;\n",
       "    }\n",
       "\n",
       "    .dataframe thead th {\n",
       "        text-align: right;\n",
       "    }\n",
       "</style>\n",
       "<table border=\"1\" class=\"dataframe\">\n",
       "  <thead>\n",
       "    <tr style=\"text-align: right;\">\n",
       "      <th></th>\n",
       "      <th>Pregnancies</th>\n",
       "      <th>Glucose</th>\n",
       "      <th>BloodPressure</th>\n",
       "      <th>SkinThickness</th>\n",
       "      <th>Insulin</th>\n",
       "      <th>BMI</th>\n",
       "      <th>DiabetesPedigreeFunction</th>\n",
       "      <th>Age</th>\n",
       "      <th>Outcome</th>\n",
       "    </tr>\n",
       "  </thead>\n",
       "  <tbody>\n",
       "    <tr>\n",
       "      <th>763</th>\n",
       "      <td>10.0</td>\n",
       "      <td>101.0</td>\n",
       "      <td>76.0</td>\n",
       "      <td>48.0</td>\n",
       "      <td>180.0</td>\n",
       "      <td>32.9</td>\n",
       "      <td>0.171</td>\n",
       "      <td>63.0</td>\n",
       "      <td>0.0</td>\n",
       "    </tr>\n",
       "    <tr>\n",
       "      <th>764</th>\n",
       "      <td>2.0</td>\n",
       "      <td>122.0</td>\n",
       "      <td>70.0</td>\n",
       "      <td>27.0</td>\n",
       "      <td>0.0</td>\n",
       "      <td>36.8</td>\n",
       "      <td>0.340</td>\n",
       "      <td>27.0</td>\n",
       "      <td>0.0</td>\n",
       "    </tr>\n",
       "    <tr>\n",
       "      <th>765</th>\n",
       "      <td>5.0</td>\n",
       "      <td>121.0</td>\n",
       "      <td>72.0</td>\n",
       "      <td>23.0</td>\n",
       "      <td>112.0</td>\n",
       "      <td>26.2</td>\n",
       "      <td>0.245</td>\n",
       "      <td>30.0</td>\n",
       "      <td>0.0</td>\n",
       "    </tr>\n",
       "    <tr>\n",
       "      <th>766</th>\n",
       "      <td>1.0</td>\n",
       "      <td>126.0</td>\n",
       "      <td>60.0</td>\n",
       "      <td>0.0</td>\n",
       "      <td>0.0</td>\n",
       "      <td>30.1</td>\n",
       "      <td>0.349</td>\n",
       "      <td>47.0</td>\n",
       "      <td>1.0</td>\n",
       "    </tr>\n",
       "    <tr>\n",
       "      <th>767</th>\n",
       "      <td>1.0</td>\n",
       "      <td>93.0</td>\n",
       "      <td>70.0</td>\n",
       "      <td>31.0</td>\n",
       "      <td>0.0</td>\n",
       "      <td>30.4</td>\n",
       "      <td>0.315</td>\n",
       "      <td>23.0</td>\n",
       "      <td>0.0</td>\n",
       "    </tr>\n",
       "  </tbody>\n",
       "</table>\n",
       "</div>"
      ],
      "text/plain": [
       "     Pregnancies  Glucose  BloodPressure  SkinThickness  Insulin   BMI  \\\n",
       "763         10.0    101.0           76.0           48.0    180.0  32.9   \n",
       "764          2.0    122.0           70.0           27.0      0.0  36.8   \n",
       "765          5.0    121.0           72.0           23.0    112.0  26.2   \n",
       "766          1.0    126.0           60.0            0.0      0.0  30.1   \n",
       "767          1.0     93.0           70.0           31.0      0.0  30.4   \n",
       "\n",
       "     DiabetesPedigreeFunction   Age  Outcome  \n",
       "763                     0.171  63.0      0.0  \n",
       "764                     0.340  27.0      0.0  \n",
       "765                     0.245  30.0      0.0  \n",
       "766                     0.349  47.0      1.0  \n",
       "767                     0.315  23.0      0.0  "
      ]
     },
     "execution_count": 10,
     "metadata": {},
     "output_type": "execute_result"
    }
   ],
   "source": [
    "#display the last five rows of dataframe\n",
    "df_dataset.tail()"
   ]
  },
  {
   "cell_type": "code",
   "execution_count": 11,
   "id": "f0903653-e2a5-41e5-900b-fe032a73770a",
   "metadata": {},
   "outputs": [
    {
     "data": {
      "text/plain": [
       "(768, 9)"
      ]
     },
     "execution_count": 11,
     "metadata": {},
     "output_type": "execute_result"
    }
   ],
   "source": [
    "#identify shape of the dataframe\n",
    "df_dataset.shape"
   ]
  },
  {
   "cell_type": "code",
   "execution_count": 12,
   "id": "506cfd71-d8ed-457a-a335-b42ee846532b",
   "metadata": {},
   "outputs": [
    {
     "name": "stdout",
     "output_type": "stream",
     "text": [
      "['Pregnancies' 'Glucose' 'BloodPressure' 'SkinThickness' 'Insulin' 'BMI'\n",
      " 'DiabetesPedigreeFunction' 'Age' 'Outcome']\n"
     ]
    }
   ],
   "source": [
    "#view the columns of dataset\n",
    "print(df_dataset.columns.values)"
   ]
  },
  {
   "cell_type": "code",
   "execution_count": 13,
   "id": "c6628195-73ca-4202-b2d1-43cbfc569359",
   "metadata": {},
   "outputs": [
    {
     "data": {
      "text/plain": [
       "RangeIndex(start=0, stop=768, step=1)"
      ]
     },
     "execution_count": 13,
     "metadata": {},
     "output_type": "execute_result"
    }
   ],
   "source": [
    "#view index of the dataset\n",
    "df_dataset.index"
   ]
  },
  {
   "cell_type": "code",
   "execution_count": 14,
   "id": "2438e27b-0c60-40ae-af8c-62cc3ead77b3",
   "metadata": {},
   "outputs": [
    {
     "data": {
      "text/plain": [
       "0"
      ]
     },
     "execution_count": 14,
     "metadata": {},
     "output_type": "execute_result"
    }
   ],
   "source": [
    "#check for any duplicate rows\n",
    "df_dataset.duplicated().sum()"
   ]
  },
  {
   "cell_type": "code",
   "execution_count": 15,
   "id": "8408d563-0b2e-4827-adda-1f8e56bcdd17",
   "metadata": {},
   "outputs": [
    {
     "data": {
      "text/plain": [
       "Pregnancies                 0\n",
       "Glucose                     0\n",
       "BloodPressure               0\n",
       "SkinThickness               0\n",
       "Insulin                     0\n",
       "BMI                         0\n",
       "DiabetesPedigreeFunction    0\n",
       "Age                         0\n",
       "Outcome                     0\n",
       "dtype: int64"
      ]
     },
     "execution_count": 15,
     "metadata": {},
     "output_type": "execute_result"
    }
   ],
   "source": [
    "#check for any variables with null values\n",
    "df_dataset.isna().sum()"
   ]
  },
  {
   "cell_type": "code",
   "execution_count": 16,
   "id": "6d6563fa-ae27-43ba-8681-c70311b1eab5",
   "metadata": {},
   "outputs": [],
   "source": [
    "#convert the integer datatype variables"
   ]
  },
  {
   "cell_type": "code",
   "execution_count": 17,
   "id": "b0c4530b-b726-4728-af9f-16c7b51bda4a",
   "metadata": {},
   "outputs": [
    {
     "data": {
      "image/png": "[encoded data removed]",
      "text/plain": [
       "<Figure size 1080x1080 with 8 Axes>"
      ]
     },
     "metadata": {
      "needs_background": "light"
     },
     "output_type": "display_data"
    }
   ],
   "source": [
    "#distribution of variables\n",
    "fig,ax=plt.subplots(4,2,figsize=(15,15))\n",
    "for column,subplot in zip(df_dataset.drop(['Outcome'],axis=1),ax.flatten()):\n",
    "    sns.distplot(df_dataset[column],rug=True,ax=subplot)"
   ]
  },
  {
   "cell_type": "code",
   "execution_count": 18,
   "id": "e86fe09e-a5af-4672-9df7-3910989e7ddd",
   "metadata": {},
   "outputs": [],
   "source": [
    "#from the above plot,we can see that many of the features having zero value which can never happens in a real life scenario."
   ]
  },
  {
   "cell_type": "code",
   "execution_count": 19,
   "id": "ad84fc0d-acd2-4da2-bc67-93a57cf65405",
   "metadata": {},
   "outputs": [],
   "source": [
    "#Out these features['Glucose' 'BloodPressure' 'SkinThickness' 'Insulin' 'BMI'],a value of zero \n",
    "#does not make sense and thus indicates missing value.Now we can calculate the missing value \n",
    "#percentage in each of these columns so as to decide how to treat these values."
   ]
  },
  {
   "cell_type": "code",
   "execution_count": 20,
   "id": "c74e9ce1-7bee-45af-b7b1-0880ecf1fe51",
   "metadata": {},
   "outputs": [],
   "source": [
    "missing_value_columns=['Glucose','BloodPressure','SkinThickness','Insulin','BMI']"
   ]
  },
  {
   "cell_type": "code",
   "execution_count": 21,
   "id": "a2b4ef1f-05e0-4b8a-9e1d-5a2edf7e5620",
   "metadata": {},
   "outputs": [
    {
     "name": "stdout",
     "output_type": "stream",
     "text": [
      "No. of zeros in Glucose is 5\n",
      "Percentage of zeros in Glucose is 0.6510416666666667\n",
      "***************************\n",
      "No. of zeros in BloodPressure is 35\n",
      "Percentage of zeros in BloodPressure is 4.557291666666666\n",
      "***************************\n",
      "No. of zeros in SkinThickness is 227\n",
      "Percentage of zeros in SkinThickness is 29.557291666666668\n",
      "***************************\n",
      "No. of zeros in Insulin is 374\n",
      "Percentage of zeros in Insulin is 48.69791666666667\n",
      "***************************\n",
      "No. of zeros in BMI is 11\n",
      "Percentage of zeros in BMI is 1.4322916666666665\n",
      "***************************\n"
     ]
    }
   ],
   "source": [
    "for column in missing_value_columns:\n",
    "    print(\"No. of zeros in\",column,\"is\",df_dataset[df_dataset[column]==0].shape[0])\n",
    "    print(\"Percentage of zeros in\",column,\"is\",df_dataset[df_dataset[column]==0].shape[0]/len(df_dataset)*100)\n",
    "    print(\"***************************\")"
   ]
  },
  {
   "cell_type": "code",
   "execution_count": 22,
   "id": "bccb067e-0278-4c34-aeb9-4c72e42b572e",
   "metadata": {},
   "outputs": [],
   "source": [
    "#percentage of zeros in features like Insulin and Skin Thickness is above 20% so dropping these rows will reduce \n",
    "#the size of dataset.So it is better to replace those zeros with the mean values."
   ]
  },
  {
   "cell_type": "code",
   "execution_count": 23,
   "id": "50a1528c-296b-4f3d-a5e3-ae4d1c44e1a5",
   "metadata": {},
   "outputs": [],
   "source": [
    "for column in missing_value_columns:\n",
    "    df_dataset[column]=df_dataset[column].apply(lambda x:df_dataset[column].mean() if x==0 else x)"
   ]
  },
  {
   "cell_type": "code",
   "execution_count": 24,
   "id": "10dc1b78-d121-4616-b4af-eb7796c3080a",
   "metadata": {},
   "outputs": [
    {
     "name": "stdout",
     "output_type": "stream",
     "text": [
      "No. of zeros in Glucose is 0\n",
      "Percentage of zeros in Glucose is 0.0\n",
      "***************************\n",
      "No. of zeros in BloodPressure is 0\n",
      "Percentage of zeros in BloodPressure is 0.0\n",
      "***************************\n",
      "No. of zeros in SkinThickness is 0\n",
      "Percentage of zeros in SkinThickness is 0.0\n",
      "***************************\n",
      "No. of zeros in Insulin is 0\n",
      "Percentage of zeros in Insulin is 0.0\n",
      "***************************\n",
      "No. of zeros in BMI is 0\n",
      "Percentage of zeros in BMI is 0.0\n",
      "***************************\n"
     ]
    }
   ],
   "source": [
    "for column in missing_value_columns:\n",
    "    print(\"No. of zeros in\",column,\"is\",df_dataset[df_dataset[column]==0].shape[0])\n",
    "    print(\"Percentage of zeros in\",column,\"is\",df_dataset[df_dataset[column]==0].shape[0]/len(df_dataset)*100)\n",
    "    print(\"***************************\")"
   ]
  },
  {
   "cell_type": "code",
   "execution_count": 25,
   "id": "e5625fa0-c05a-41ce-aca9-79a3741f464b",
   "metadata": {},
   "outputs": [],
   "source": [
    "#Now check for the outliers in the features"
   ]
  },
  {
   "cell_type": "code",
   "execution_count": 26,
   "id": "0085789b-dfc6-4c72-a74d-fa0d9dc2d508",
   "metadata": {},
   "outputs": [
    {
     "data": {
      "image/png": "[encoded data removed]",
      "text/plain": [
       "<Figure size 1080x1080 with 8 Axes>"
      ]
     },
     "metadata": {
      "needs_background": "light"
     },
     "output_type": "display_data"
    }
   ],
   "source": [
    "fig,ax=plt.subplots(4,2,figsize=(15,15))\n",
    "for column,subplot in zip(df_dataset.drop(['Outcome'],axis=1),ax.flatten()):\n",
    "    sns.boxplot(x=column,data=df_dataset,ax=subplot)"
   ]
  },
  {
   "cell_type": "code",
   "execution_count": 27,
   "id": "fccd0033-6f39-42a1-b04a-99a9f923fd44",
   "metadata": {},
   "outputs": [],
   "source": [
    "#count of the person with extreme values in each features"
   ]
  },
  {
   "cell_type": "code",
   "execution_count": 28,
   "id": "2aad606c-18e8-481a-9b75-96f8a070d891",
   "metadata": {},
   "outputs": [
    {
     "data": {
      "text/plain": [
       "(13, 9)"
      ]
     },
     "execution_count": 28,
     "metadata": {},
     "output_type": "execute_result"
    }
   ],
   "source": [
    "df_dataset[df_dataset['BloodPressure']>100].shape"
   ]
  },
  {
   "cell_type": "code",
   "execution_count": 29,
   "id": "21a655ed-0290-4cfd-bbcc-7c01f38c9cf9",
   "metadata": {},
   "outputs": [
    {
     "data": {
      "text/plain": [
       "(1, 9)"
      ]
     },
     "execution_count": 29,
     "metadata": {},
     "output_type": "execute_result"
    }
   ],
   "source": [
    "df_dataset[df_dataset['SkinThickness']>80].shape"
   ]
  },
  {
   "cell_type": "code",
   "execution_count": 30,
   "id": "79777543-99c0-40ae-b711-a3aaecfa39c0",
   "metadata": {},
   "outputs": [
    {
     "data": {
      "text/plain": [
       "(8, 9)"
      ]
     },
     "execution_count": 30,
     "metadata": {},
     "output_type": "execute_result"
    }
   ],
   "source": [
    "df_dataset[df_dataset['BMI']>50].shape"
   ]
  },
  {
   "cell_type": "code",
   "execution_count": 31,
   "id": "36d83061-872e-4a2d-a463-fc61d9deb132",
   "metadata": {},
   "outputs": [
    {
     "data": {
      "text/plain": [
       "(85, 9)"
      ]
     },
     "execution_count": 31,
     "metadata": {},
     "output_type": "execute_result"
    }
   ],
   "source": [
    "df_dataset[df_dataset['Insulin']>200].shape"
   ]
  },
  {
   "cell_type": "code",
   "execution_count": 32,
   "id": "ba7823dd-b54a-41fe-abf2-05f255aade42",
   "metadata": {},
   "outputs": [],
   "source": [
    "#the person with extreme values are sometimes common,so we can leave those etremes as such"
   ]
  },
  {
   "cell_type": "code",
   "execution_count": 33,
   "id": "3e473cab-0bc7-45b8-a5ad-c89b34ba9820",
   "metadata": {},
   "outputs": [
    {
     "data": {
      "image/png": "[encoded data removed]",
      "text/plain": [
       "<Figure size 432x288 with 1 Axes>"
      ]
     },
     "metadata": {
      "needs_background": "light"
     },
     "output_type": "display_data"
    }
   ],
   "source": [
    "sns.countplot(df_dataset['Outcome']);"
   ]
  },
  {
   "cell_type": "code",
   "execution_count": 34,
   "id": "1df788fa-f20f-4d05-87f7-b46183b36473",
   "metadata": {},
   "outputs": [
    {
     "name": "stdout",
     "output_type": "stream",
     "text": [
      "The output feature 'Outcome' in % :\n",
      "\n"
     ]
    },
    {
     "data": {
      "text/plain": [
       "0.0    0.651042\n",
       "1.0    0.348958\n",
       "Name: Outcome, dtype: float64"
      ]
     },
     "execution_count": 34,
     "metadata": {},
     "output_type": "execute_result"
    }
   ],
   "source": [
    "print(\"The output feature 'Outcome' in % :\\n\")\n",
    "df_dataset['Outcome'].value_counts()/len(df_dataset)"
   ]
  },
  {
   "cell_type": "code",
   "execution_count": 35,
   "id": "fbbe3bbe-2c30-45fe-ad2b-b75557d6212a",
   "metadata": {},
   "outputs": [],
   "source": [
    "#The output feature 'Outcome' is somewhat balanced"
   ]
  },
  {
   "cell_type": "code",
   "execution_count": 36,
   "id": "b643995a-8609-4050-96df-f8c34f56e97a",
   "metadata": {},
   "outputs": [
    {
     "data": {
      "text/html": [
       "<div>\n",
       "<style scoped>\n",
       "    .dataframe tbody tr th:only-of-type {\n",
       "        vertical-align: middle;\n",
       "    }\n",
       "\n",
       "    .dataframe tbody tr th {\n",
       "        vertical-align: top;\n",
       "    }\n",
       "\n",
       "    .dataframe thead th {\n",
       "        text-align: right;\n",
       "    }\n",
       "</style>\n",
       "<table border=\"1\" class=\"dataframe\">\n",
       "  <thead>\n",
       "    <tr style=\"text-align: right;\">\n",
       "      <th></th>\n",
       "      <th>Pregnancies</th>\n",
       "      <th>Glucose</th>\n",
       "      <th>BloodPressure</th>\n",
       "      <th>SkinThickness</th>\n",
       "      <th>Insulin</th>\n",
       "      <th>BMI</th>\n",
       "      <th>DiabetesPedigreeFunction</th>\n",
       "      <th>Age</th>\n",
       "      <th>Outcome</th>\n",
       "    </tr>\n",
       "  </thead>\n",
       "  <tbody>\n",
       "    <tr>\n",
       "      <th>Pregnancies</th>\n",
       "      <td>1.000000</td>\n",
       "      <td>0.127964</td>\n",
       "      <td>0.208984</td>\n",
       "      <td>0.013376</td>\n",
       "      <td>-0.018082</td>\n",
       "      <td>0.021546</td>\n",
       "      <td>-0.033523</td>\n",
       "      <td>0.544341</td>\n",
       "      <td>0.221898</td>\n",
       "    </tr>\n",
       "    <tr>\n",
       "      <th>Glucose</th>\n",
       "      <td>0.127964</td>\n",
       "      <td>1.000000</td>\n",
       "      <td>0.219666</td>\n",
       "      <td>0.160766</td>\n",
       "      <td>0.396597</td>\n",
       "      <td>0.231478</td>\n",
       "      <td>0.137106</td>\n",
       "      <td>0.266600</td>\n",
       "      <td>0.492908</td>\n",
       "    </tr>\n",
       "    <tr>\n",
       "      <th>BloodPressure</th>\n",
       "      <td>0.208984</td>\n",
       "      <td>0.219666</td>\n",
       "      <td>1.000000</td>\n",
       "      <td>0.134155</td>\n",
       "      <td>0.010926</td>\n",
       "      <td>0.281231</td>\n",
       "      <td>0.000371</td>\n",
       "      <td>0.326740</td>\n",
       "      <td>0.162986</td>\n",
       "    </tr>\n",
       "    <tr>\n",
       "      <th>SkinThickness</th>\n",
       "      <td>0.013376</td>\n",
       "      <td>0.160766</td>\n",
       "      <td>0.134155</td>\n",
       "      <td>1.000000</td>\n",
       "      <td>0.240361</td>\n",
       "      <td>0.535703</td>\n",
       "      <td>0.154961</td>\n",
       "      <td>0.026423</td>\n",
       "      <td>0.175026</td>\n",
       "    </tr>\n",
       "    <tr>\n",
       "      <th>Insulin</th>\n",
       "      <td>-0.018082</td>\n",
       "      <td>0.396597</td>\n",
       "      <td>0.010926</td>\n",
       "      <td>0.240361</td>\n",
       "      <td>1.000000</td>\n",
       "      <td>0.189856</td>\n",
       "      <td>0.157806</td>\n",
       "      <td>0.038652</td>\n",
       "      <td>0.179185</td>\n",
       "    </tr>\n",
       "    <tr>\n",
       "      <th>BMI</th>\n",
       "      <td>0.021546</td>\n",
       "      <td>0.231478</td>\n",
       "      <td>0.281231</td>\n",
       "      <td>0.535703</td>\n",
       "      <td>0.189856</td>\n",
       "      <td>1.000000</td>\n",
       "      <td>0.153508</td>\n",
       "      <td>0.025748</td>\n",
       "      <td>0.312254</td>\n",
       "    </tr>\n",
       "    <tr>\n",
       "      <th>DiabetesPedigreeFunction</th>\n",
       "      <td>-0.033523</td>\n",
       "      <td>0.137106</td>\n",
       "      <td>0.000371</td>\n",
       "      <td>0.154961</td>\n",
       "      <td>0.157806</td>\n",
       "      <td>0.153508</td>\n",
       "      <td>1.000000</td>\n",
       "      <td>0.033561</td>\n",
       "      <td>0.173844</td>\n",
       "    </tr>\n",
       "    <tr>\n",
       "      <th>Age</th>\n",
       "      <td>0.544341</td>\n",
       "      <td>0.266600</td>\n",
       "      <td>0.326740</td>\n",
       "      <td>0.026423</td>\n",
       "      <td>0.038652</td>\n",
       "      <td>0.025748</td>\n",
       "      <td>0.033561</td>\n",
       "      <td>1.000000</td>\n",
       "      <td>0.238356</td>\n",
       "    </tr>\n",
       "    <tr>\n",
       "      <th>Outcome</th>\n",
       "      <td>0.221898</td>\n",
       "      <td>0.492908</td>\n",
       "      <td>0.162986</td>\n",
       "      <td>0.175026</td>\n",
       "      <td>0.179185</td>\n",
       "      <td>0.312254</td>\n",
       "      <td>0.173844</td>\n",
       "      <td>0.238356</td>\n",
       "      <td>1.000000</td>\n",
       "    </tr>\n",
       "  </tbody>\n",
       "</table>\n",
       "</div>"
      ],
      "text/plain": [
       "                          Pregnancies   Glucose  BloodPressure  SkinThickness  \\\n",
       "Pregnancies                  1.000000  0.127964       0.208984       0.013376   \n",
       "Glucose                      0.127964  1.000000       0.219666       0.160766   \n",
       "BloodPressure                0.208984  0.219666       1.000000       0.134155   \n",
       "SkinThickness                0.013376  0.160766       0.134155       1.000000   \n",
       "Insulin                     -0.018082  0.396597       0.010926       0.240361   \n",
       "BMI                          0.021546  0.231478       0.281231       0.535703   \n",
       "DiabetesPedigreeFunction    -0.033523  0.137106       0.000371       0.154961   \n",
       "Age                          0.544341  0.266600       0.326740       0.026423   \n",
       "Outcome                      0.221898  0.492908       0.162986       0.175026   \n",
       "\n",
       "                           Insulin       BMI  DiabetesPedigreeFunction  \\\n",
       "Pregnancies              -0.018082  0.021546                 -0.033523   \n",
       "Glucose                   0.396597  0.231478                  0.137106   \n",
       "BloodPressure             0.010926  0.281231                  0.000371   \n",
       "SkinThickness             0.240361  0.535703                  0.154961   \n",
       "Insulin                   1.000000  0.189856                  0.157806   \n",
       "BMI                       0.189856  1.000000                  0.153508   \n",
       "DiabetesPedigreeFunction  0.157806  0.153508                  1.000000   \n",
       "Age                       0.038652  0.025748                  0.033561   \n",
       "Outcome                   0.179185  0.312254                  0.173844   \n",
       "\n",
       "                               Age   Outcome  \n",
       "Pregnancies               0.544341  0.221898  \n",
       "Glucose                   0.266600  0.492908  \n",
       "BloodPressure             0.326740  0.162986  \n",
       "SkinThickness             0.026423  0.175026  \n",
       "Insulin                   0.038652  0.179185  \n",
       "BMI                       0.025748  0.312254  \n",
       "DiabetesPedigreeFunction  0.033561  0.173844  \n",
       "Age                       1.000000  0.238356  \n",
       "Outcome                   0.238356  1.000000  "
      ]
     },
     "execution_count": 36,
     "metadata": {},
     "output_type": "execute_result"
    }
   ],
   "source": [
    "#check the correlation between the variables\n",
    "corr_matrix=df_dataset.corr()\n",
    "corr_matrix"
   ]
  },
  {
   "cell_type": "code",
   "execution_count": 37,
   "id": "661f1c06-b24d-4c22-b539-3a423b176453",
   "metadata": {},
   "outputs": [
    {
     "data": {
      "image/png": "[encoded data removed]",
      "text/plain": [
       "<Figure size 720x720 with 2 Axes>"
      ]
     },
     "metadata": {
      "needs_background": "light"
     },
     "output_type": "display_data"
    }
   ],
   "source": [
    "plt.figure(figsize=(10,10))\n",
    "mask=np.triu(np.ones_like(corr_matrix))\n",
    "sns.heatmap(corr_matrix,vmin=-1,vmax=1,annot=True,cmap='RdYlGn',mask=mask,linecolor='white',linewidths=0.5)\n",
    "plt.show()"
   ]
  },
  {
   "cell_type": "code",
   "execution_count": 38,
   "id": "882f636a-3320-4017-b5e6-bde0ca6591ec",
   "metadata": {},
   "outputs": [],
   "source": [
    "#The feature 'Glucose' only has a good direct correlation with the 'Outcome'.The other features has \n",
    "#only a low or very low correlation with the output feature.\n",
    "#no multicollinearity so proceed with all the features for training the dataset"
   ]
  },
  {
   "cell_type": "markdown",
   "id": "7f9017f6-4ea4-4ea8-b2ed-f20f4c346f26",
   "metadata": {},
   "source": [
    "##### Training and Testing dataset"
   ]
  },
  {
   "cell_type": "code",
   "execution_count": 39,
   "id": "2804dfb0-00d5-4075-985d-be04d2ee0e47",
   "metadata": {},
   "outputs": [],
   "source": [
    "features=df_dataset.drop(['Outcome'],axis=1)"
   ]
  },
  {
   "cell_type": "code",
   "execution_count": 40,
   "id": "15b3cd68-ab70-4da6-9ba7-fce30a7bf91d",
   "metadata": {},
   "outputs": [],
   "source": [
    "target=df_dataset['Outcome']"
   ]
  },
  {
   "cell_type": "code",
   "execution_count": 41,
   "id": "529c788b-0975-4545-a358-168d2ddbe7d0",
   "metadata": {},
   "outputs": [],
   "source": [
    "X_train,X_test,y_train,y_test=train_test_split(features,target,train_size=0.7,random_state=4)"
   ]
  },
  {
   "cell_type": "code",
   "execution_count": 42,
   "id": "49851b56-1ec2-4261-b259-57266ff380c4",
   "metadata": {},
   "outputs": [],
   "source": [
    "rf_classifier = RandomForestClassifier()"
   ]
  },
  {
   "cell_type": "code",
   "execution_count": 43,
   "id": "e6c1bf2b-9c0a-4ef6-a252-b01408cc6242",
   "metadata": {},
   "outputs": [
    {
     "data": {
      "text/plain": [
       "RandomForestClassifier()"
      ]
     },
     "execution_count": 43,
     "metadata": {},
     "output_type": "execute_result"
    }
   ],
   "source": [
    "rf_classifier.fit(X_train, y_train)"
   ]
  },
  {
   "cell_type": "code",
   "execution_count": 44,
   "id": "0ac51523-5e58-4a05-966b-5db4c2a6a4a0",
   "metadata": {},
   "outputs": [],
   "source": [
    "y_pred = rf_classifier.predict(X_test)"
   ]
  },
  {
   "cell_type": "code",
   "execution_count": 45,
   "id": "4106c1fa-cdd9-41e2-903e-28b0b1a93c68",
   "metadata": {},
   "outputs": [
    {
     "name": "stdout",
     "output_type": "stream",
     "text": [
      "TEST RESULTS\n",
      "---------------\n",
      "Mean absolute error on test data: 0.21212121212121213\n",
      "Mean squared error on test data: 0.21212121212121213\n",
      "Root mean squared error on test data: 0.4605661864718383\n",
      "The test accuracy for RandomForestClassifier :  0.7878787878787878\n",
      "The confusion_matrix for RandomForestClassifier : \n",
      " [[125  27]\n",
      " [ 22  57]]\n",
      "The classification_report for RandomForestClassifier : \n",
      "               precision    recall  f1-score   support\n",
      "\n",
      "         0.0       0.85      0.82      0.84       152\n",
      "         1.0       0.68      0.72      0.70        79\n",
      "\n",
      "    accuracy                           0.79       231\n",
      "   macro avg       0.76      0.77      0.77       231\n",
      "weighted avg       0.79      0.79      0.79       231\n",
      "\n"
     ]
    }
   ],
   "source": [
    "print(\"TEST RESULTS\")\n",
    "print(\"---------------\")\n",
    "print(\"Mean absolute error on test data:\",mean_absolute_error(y_pred,y_test))\n",
    "print(\"Mean squared error on test data:\",mean_squared_error(y_pred,y_test))\n",
    "print(\"Root mean squared error on test data:\",np.sqrt(mean_squared_error(y_pred,y_test)))\n",
    "print(\"The test accuracy for RandomForestClassifier : \",accuracy_score(y_test,y_pred))\n",
    "print(\"The confusion_matrix for RandomForestClassifier : \\n\",confusion_matrix(y_test, y_pred))\n",
    "print(\"The classification_report for RandomForestClassifier : \\n\",classification_report(y_test, y_pred))"
   ]
  },
  {
   "cell_type": "markdown",
   "id": "dc8b1478-cb36-4dc3-821d-10f501ce6508",
   "metadata": {},
   "source": [
    "#### Data Prediction"
   ]
  },
  {
   "cell_type": "code",
   "execution_count": 46,
   "id": "4927d84e-4774-42f0-a242-5b48a9781cd3",
   "metadata": {},
   "outputs": [
    {
     "data": {
      "text/plain": [
       "array([[  6.        , 148.        ,  72.        ,  35.        ,\n",
       "         79.79947917,  33.6       ,   0.627     ,  50.        ]])"
      ]
     },
     "execution_count": 46,
     "metadata": {},
     "output_type": "execute_result"
    }
   ],
   "source": [
    "np.array(features)[0].reshape(1,-1)"
   ]
  },
  {
   "cell_type": "code",
   "execution_count": 47,
   "id": "f9a16694-4fec-4090-870a-dbb6fd196222",
   "metadata": {},
   "outputs": [
    {
     "data": {
      "text/plain": [
       "array([1.])"
      ]
     },
     "execution_count": 47,
     "metadata": {},
     "output_type": "execute_result"
    }
   ],
   "source": [
    "rf_classifier.predict(np.array(features)[0].reshape(1,-1))"
   ]
  },
  {
   "cell_type": "markdown",
   "id": "ccfbd36b-e928-49b7-8f69-17be805d2a99",
   "metadata": {},
   "source": [
    "#### Pickle the model"
   ]
  },
  {
   "cell_type": "code",
   "execution_count": 48,
   "id": "76f70c40-3921-4168-bcf0-ca07a39ded6a",
   "metadata": {},
   "outputs": [],
   "source": [
    "pickle_model=pickle.load(open('diabetes_model.pkl','rb'))"
   ]
  },
  {
   "cell_type": "code",
   "execution_count": 49,
   "id": "23478bc4-1e6c-4c58-aede-eee49f00419a",
   "metadata": {},
   "outputs": [],
   "source": [
    "#dump information to the file where we want to store the data\n",
    "pickle.dump(rf_classifier,open('diabetes_model.pkl','wb'))"
   ]
  },
  {
   "cell_type": "code",
   "execution_count": 50,
   "id": "c58f7c72-88e2-440b-b252-b502eb33b3bc",
   "metadata": {},
   "outputs": [
    {
     "data": {
      "text/plain": [
       "array([1], dtype=int64)"
      ]
     },
     "execution_count": 50,
     "metadata": {},
     "output_type": "execute_result"
    }
   ],
   "source": [
    "pickle_model.predict(np.array(features)[0].reshape(1,-1))"
   ]
  }
 ],
 "metadata": {
  "kernelspec": {
   "display_name": "Python 3 (ipykernel)",
   "language": "python",
   "name": "python3"
  },
  "language_info": {
   "codemirror_mode": {
    "name": "ipython",
    "version": 3
   },
   "file_extension": ".py",
   "mimetype": "text/x-python",
   "name": "python",
   "nbconvert_exporter": "python",
   "pygments_lexer": "ipython3",
   "version": "3.9.12"
  }
 },
 "nbformat": 4,
 "nbformat_minor": 5
}
