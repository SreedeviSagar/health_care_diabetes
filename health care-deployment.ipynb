{
 "cells": [
  {
   "cell_type": "markdown",
   "id": "6f53d886-49e0-4cbb-be68-c5735875767c",
   "metadata": {},
   "source": [
    "#### Import the libraries"
   ]
  },
  {
   "cell_type": "code",
   "execution_count": 1,
   "id": "1a83d941-afe8-415a-bfd7-41c9619a6126",
   "metadata": {},
   "outputs": [],
   "source": [
    "import pandas as pd\n",
    "import numpy as np\n",
    "import seaborn as sns\n",
    "import datetime as dt\n",
    "import matplotlib.pyplot as plt\n",
    "%matplotlib inline"
   ]
  },
  {
   "cell_type": "code",
   "execution_count": 75,
   "id": "f79ce793-25e9-4117-bba2-e5302ffb26e6",
   "metadata": {},
   "outputs": [],
   "source": [
    "from sklearn.model_selection import train_test_split\n",
    "from sklearn.model_selection import RandomizedSearchCV,GridSearchCV,cross_val_score,StratifiedKFold\n",
    "from sklearn import metrics"
   ]
  },
  {
   "cell_type": "code",
   "execution_count": 3,
   "id": "e2ca6dc8-9201-4aeb-9501-3361ef2f0b0e",
   "metadata": {},
   "outputs": [],
   "source": [
    "from sklearn.linear_model import LogisticRegression\n",
    "from sklearn.svm import SVC\n",
    "from sklearn.naive_bayes import MultinomialNB\n",
    "from sklearn.tree import DecisionTreeClassifier\n",
    "from sklearn.neighbors import KNeighborsClassifier\n",
    "from sklearn.ensemble import RandomForestClassifier\n",
    "from sklearn.ensemble import AdaBoostClassifier\n",
    "from sklearn.ensemble import BaggingClassifier\n",
    "from sklearn.ensemble import ExtraTreesClassifier\n",
    "from sklearn.ensemble import GradientBoostingClassifier\n",
    "from xgboost import XGBClassifier"
   ]
  },
  {
   "cell_type": "code",
   "execution_count": 4,
   "id": "deb21b9a-b092-463b-acfc-e9f379619763",
   "metadata": {},
   "outputs": [],
   "source": [
    "from sklearn.metrics import mean_squared_error,mean_absolute_error\n",
    "from sklearn.metrics import accuracy_score\n",
    "from sklearn.metrics import confusion_matrix,precision_score,recall_score\n",
    "from sklearn.metrics import classification_report\n",
    "import pickle"
   ]
  },
  {
   "cell_type": "code",
   "execution_count": 5,
   "id": "d5b8372a-b61c-45aa-8fa8-bb1d0c177722",
   "metadata": {},
   "outputs": [],
   "source": [
    "import warnings\n",
    "warnings.filterwarnings('ignore')"
   ]
  },
  {
   "cell_type": "code",
   "execution_count": 6,
   "id": "5ed6c7a1-174f-4e38-a187-fb680522a539",
   "metadata": {},
   "outputs": [],
   "source": [
    "#read the dataset\n",
    "df_dataset=pd.read_csv(\"health care diabetes.csv\")"
   ]
  },
  {
   "cell_type": "code",
   "execution_count": 7,
   "id": "bd14e7e7-48dc-4796-bb5c-8f71448b7d9f",
   "metadata": {},
   "outputs": [
    {
     "data": {
      "text/plain": [
       "pandas.core.frame.DataFrame"
      ]
     },
     "execution_count": 7,
     "metadata": {},
     "output_type": "execute_result"
    }
   ],
   "source": [
    "type(df_dataset)"
   ]
  },
  {
   "cell_type": "code",
   "execution_count": 8,
   "id": "ebf0d926-6831-46c7-aaa9-5543ee245237",
   "metadata": {},
   "outputs": [
    {
     "name": "stdout",
     "output_type": "stream",
     "text": [
      "<class 'pandas.core.frame.DataFrame'>\n",
      "RangeIndex: 768 entries, 0 to 767\n",
      "Data columns (total 9 columns):\n",
      " #   Column                    Non-Null Count  Dtype  \n",
      "---  ------                    --------------  -----  \n",
      " 0   Pregnancies               768 non-null    int64  \n",
      " 1   Glucose                   768 non-null    int64  \n",
      " 2   BloodPressure             768 non-null    int64  \n",
      " 3   SkinThickness             768 non-null    int64  \n",
      " 4   Insulin                   768 non-null    int64  \n",
      " 5   BMI                       768 non-null    float64\n",
      " 6   DiabetesPedigreeFunction  768 non-null    float64\n",
      " 7   Age                       768 non-null    int64  \n",
      " 8   Outcome                   768 non-null    int64  \n",
      "dtypes: float64(2), int64(7)\n",
      "memory usage: 54.1 KB\n"
     ]
    }
   ],
   "source": [
    "#concise summary of dataframe\n",
    "df_dataset.info()"
   ]
  },
  {
   "cell_type": "code",
   "execution_count": 9,
   "id": "040e3ad5-960c-42d2-8cff-e22f46e4d72b",
   "metadata": {},
   "outputs": [],
   "source": [
    "#convert all the variables to same datatype as float\n",
    "for column in df_dataset:\n",
    "    df_dataset[column]=df_dataset[column].astype('float64')    "
   ]
  },
  {
   "cell_type": "code",
   "execution_count": 10,
   "id": "5719a293-84a9-4086-b896-ad0b3bcbad28",
   "metadata": {},
   "outputs": [
    {
     "data": {
      "text/html": [
       "<div>\n",
       "<style scoped>\n",
       "    .dataframe tbody tr th:only-of-type {\n",
       "        vertical-align: middle;\n",
       "    }\n",
       "\n",
       "    .dataframe tbody tr th {\n",
       "        vertical-align: top;\n",
       "    }\n",
       "\n",
       "    .dataframe thead th {\n",
       "        text-align: right;\n",
       "    }\n",
       "</style>\n",
       "<table border=\"1\" class=\"dataframe\">\n",
       "  <thead>\n",
       "    <tr style=\"text-align: right;\">\n",
       "      <th></th>\n",
       "      <th>Pregnancies</th>\n",
       "      <th>Glucose</th>\n",
       "      <th>BloodPressure</th>\n",
       "      <th>SkinThickness</th>\n",
       "      <th>Insulin</th>\n",
       "      <th>BMI</th>\n",
       "      <th>DiabetesPedigreeFunction</th>\n",
       "      <th>Age</th>\n",
       "      <th>Outcome</th>\n",
       "    </tr>\n",
       "  </thead>\n",
       "  <tbody>\n",
       "    <tr>\n",
       "      <th>0</th>\n",
       "      <td>6.0</td>\n",
       "      <td>148.0</td>\n",
       "      <td>72.0</td>\n",
       "      <td>35.0</td>\n",
       "      <td>0.0</td>\n",
       "      <td>33.6</td>\n",
       "      <td>0.627</td>\n",
       "      <td>50.0</td>\n",
       "      <td>1.0</td>\n",
       "    </tr>\n",
       "    <tr>\n",
       "      <th>1</th>\n",
       "      <td>1.0</td>\n",
       "      <td>85.0</td>\n",
       "      <td>66.0</td>\n",
       "      <td>29.0</td>\n",
       "      <td>0.0</td>\n",
       "      <td>26.6</td>\n",
       "      <td>0.351</td>\n",
       "      <td>31.0</td>\n",
       "      <td>0.0</td>\n",
       "    </tr>\n",
       "    <tr>\n",
       "      <th>2</th>\n",
       "      <td>8.0</td>\n",
       "      <td>183.0</td>\n",
       "      <td>64.0</td>\n",
       "      <td>0.0</td>\n",
       "      <td>0.0</td>\n",
       "      <td>23.3</td>\n",
       "      <td>0.672</td>\n",
       "      <td>32.0</td>\n",
       "      <td>1.0</td>\n",
       "    </tr>\n",
       "    <tr>\n",
       "      <th>3</th>\n",
       "      <td>1.0</td>\n",
       "      <td>89.0</td>\n",
       "      <td>66.0</td>\n",
       "      <td>23.0</td>\n",
       "      <td>94.0</td>\n",
       "      <td>28.1</td>\n",
       "      <td>0.167</td>\n",
       "      <td>21.0</td>\n",
       "      <td>0.0</td>\n",
       "    </tr>\n",
       "    <tr>\n",
       "      <th>4</th>\n",
       "      <td>0.0</td>\n",
       "      <td>137.0</td>\n",
       "      <td>40.0</td>\n",
       "      <td>35.0</td>\n",
       "      <td>168.0</td>\n",
       "      <td>43.1</td>\n",
       "      <td>2.288</td>\n",
       "      <td>33.0</td>\n",
       "      <td>1.0</td>\n",
       "    </tr>\n",
       "  </tbody>\n",
       "</table>\n",
       "</div>"
      ],
      "text/plain": [
       "   Pregnancies  Glucose  BloodPressure  SkinThickness  Insulin   BMI  \\\n",
       "0          6.0    148.0           72.0           35.0      0.0  33.6   \n",
       "1          1.0     85.0           66.0           29.0      0.0  26.6   \n",
       "2          8.0    183.0           64.0            0.0      0.0  23.3   \n",
       "3          1.0     89.0           66.0           23.0     94.0  28.1   \n",
       "4          0.0    137.0           40.0           35.0    168.0  43.1   \n",
       "\n",
       "   DiabetesPedigreeFunction   Age  Outcome  \n",
       "0                     0.627  50.0      1.0  \n",
       "1                     0.351  31.0      0.0  \n",
       "2                     0.672  32.0      1.0  \n",
       "3                     0.167  21.0      0.0  \n",
       "4                     2.288  33.0      1.0  "
      ]
     },
     "execution_count": 10,
     "metadata": {},
     "output_type": "execute_result"
    }
   ],
   "source": [
    "#display the first five rows of dataframe\n",
    "df_dataset.head()"
   ]
  },
  {
   "cell_type": "code",
   "execution_count": 11,
   "id": "675a3b86-c478-4d6a-851e-5c5fe53db498",
   "metadata": {},
   "outputs": [
    {
     "data": {
      "text/html": [
       "<div>\n",
       "<style scoped>\n",
       "    .dataframe tbody tr th:only-of-type {\n",
       "        vertical-align: middle;\n",
       "    }\n",
       "\n",
       "    .dataframe tbody tr th {\n",
       "        vertical-align: top;\n",
       "    }\n",
       "\n",
       "    .dataframe thead th {\n",
       "        text-align: right;\n",
       "    }\n",
       "</style>\n",
       "<table border=\"1\" class=\"dataframe\">\n",
       "  <thead>\n",
       "    <tr style=\"text-align: right;\">\n",
       "      <th></th>\n",
       "      <th>Pregnancies</th>\n",
       "      <th>Glucose</th>\n",
       "      <th>BloodPressure</th>\n",
       "      <th>SkinThickness</th>\n",
       "      <th>Insulin</th>\n",
       "      <th>BMI</th>\n",
       "      <th>DiabetesPedigreeFunction</th>\n",
       "      <th>Age</th>\n",
       "      <th>Outcome</th>\n",
       "    </tr>\n",
       "  </thead>\n",
       "  <tbody>\n",
       "    <tr>\n",
       "      <th>763</th>\n",
       "      <td>10.0</td>\n",
       "      <td>101.0</td>\n",
       "      <td>76.0</td>\n",
       "      <td>48.0</td>\n",
       "      <td>180.0</td>\n",
       "      <td>32.9</td>\n",
       "      <td>0.171</td>\n",
       "      <td>63.0</td>\n",
       "      <td>0.0</td>\n",
       "    </tr>\n",
       "    <tr>\n",
       "      <th>764</th>\n",
       "      <td>2.0</td>\n",
       "      <td>122.0</td>\n",
       "      <td>70.0</td>\n",
       "      <td>27.0</td>\n",
       "      <td>0.0</td>\n",
       "      <td>36.8</td>\n",
       "      <td>0.340</td>\n",
       "      <td>27.0</td>\n",
       "      <td>0.0</td>\n",
       "    </tr>\n",
       "    <tr>\n",
       "      <th>765</th>\n",
       "      <td>5.0</td>\n",
       "      <td>121.0</td>\n",
       "      <td>72.0</td>\n",
       "      <td>23.0</td>\n",
       "      <td>112.0</td>\n",
       "      <td>26.2</td>\n",
       "      <td>0.245</td>\n",
       "      <td>30.0</td>\n",
       "      <td>0.0</td>\n",
       "    </tr>\n",
       "    <tr>\n",
       "      <th>766</th>\n",
       "      <td>1.0</td>\n",
       "      <td>126.0</td>\n",
       "      <td>60.0</td>\n",
       "      <td>0.0</td>\n",
       "      <td>0.0</td>\n",
       "      <td>30.1</td>\n",
       "      <td>0.349</td>\n",
       "      <td>47.0</td>\n",
       "      <td>1.0</td>\n",
       "    </tr>\n",
       "    <tr>\n",
       "      <th>767</th>\n",
       "      <td>1.0</td>\n",
       "      <td>93.0</td>\n",
       "      <td>70.0</td>\n",
       "      <td>31.0</td>\n",
       "      <td>0.0</td>\n",
       "      <td>30.4</td>\n",
       "      <td>0.315</td>\n",
       "      <td>23.0</td>\n",
       "      <td>0.0</td>\n",
       "    </tr>\n",
       "  </tbody>\n",
       "</table>\n",
       "</div>"
      ],
      "text/plain": [
       "     Pregnancies  Glucose  BloodPressure  SkinThickness  Insulin   BMI  \\\n",
       "763         10.0    101.0           76.0           48.0    180.0  32.9   \n",
       "764          2.0    122.0           70.0           27.0      0.0  36.8   \n",
       "765          5.0    121.0           72.0           23.0    112.0  26.2   \n",
       "766          1.0    126.0           60.0            0.0      0.0  30.1   \n",
       "767          1.0     93.0           70.0           31.0      0.0  30.4   \n",
       "\n",
       "     DiabetesPedigreeFunction   Age  Outcome  \n",
       "763                     0.171  63.0      0.0  \n",
       "764                     0.340  27.0      0.0  \n",
       "765                     0.245  30.0      0.0  \n",
       "766                     0.349  47.0      1.0  \n",
       "767                     0.315  23.0      0.0  "
      ]
     },
     "execution_count": 11,
     "metadata": {},
     "output_type": "execute_result"
    }
   ],
   "source": [
    "#display the last five rows of dataframe\n",
    "df_dataset.tail()"
   ]
  },
  {
   "cell_type": "code",
   "execution_count": 12,
   "id": "f0903653-e2a5-41e5-900b-fe032a73770a",
   "metadata": {},
   "outputs": [
    {
     "data": {
      "text/plain": [
       "(768, 9)"
      ]
     },
     "execution_count": 12,
     "metadata": {},
     "output_type": "execute_result"
    }
   ],
   "source": [
    "#identify shape of the dataframe\n",
    "df_dataset.shape"
   ]
  },
  {
   "cell_type": "code",
   "execution_count": 13,
   "id": "506cfd71-d8ed-457a-a335-b42ee846532b",
   "metadata": {},
   "outputs": [
    {
     "name": "stdout",
     "output_type": "stream",
     "text": [
      "['Pregnancies' 'Glucose' 'BloodPressure' 'SkinThickness' 'Insulin' 'BMI'\n",
      " 'DiabetesPedigreeFunction' 'Age' 'Outcome']\n"
     ]
    }
   ],
   "source": [
    "#view the columns of dataset\n",
    "print(df_dataset.columns.values)"
   ]
  },
  {
   "cell_type": "code",
   "execution_count": 14,
   "id": "c6628195-73ca-4202-b2d1-43cbfc569359",
   "metadata": {},
   "outputs": [
    {
     "data": {
      "text/plain": [
       "RangeIndex(start=0, stop=768, step=1)"
      ]
     },
     "execution_count": 14,
     "metadata": {},
     "output_type": "execute_result"
    }
   ],
   "source": [
    "#view index of the dataset\n",
    "df_dataset.index"
   ]
  },
  {
   "cell_type": "code",
   "execution_count": 15,
   "id": "2438e27b-0c60-40ae-af8c-62cc3ead77b3",
   "metadata": {},
   "outputs": [
    {
     "data": {
      "text/plain": [
       "0"
      ]
     },
     "execution_count": 15,
     "metadata": {},
     "output_type": "execute_result"
    }
   ],
   "source": [
    "#check for any duplicate rows\n",
    "df_dataset.duplicated().sum()"
   ]
  },
  {
   "cell_type": "code",
   "execution_count": 16,
   "id": "8408d563-0b2e-4827-adda-1f8e56bcdd17",
   "metadata": {},
   "outputs": [
    {
     "data": {
      "text/plain": [
       "Pregnancies                 0\n",
       "Glucose                     0\n",
       "BloodPressure               0\n",
       "SkinThickness               0\n",
       "Insulin                     0\n",
       "BMI                         0\n",
       "DiabetesPedigreeFunction    0\n",
       "Age                         0\n",
       "Outcome                     0\n",
       "dtype: int64"
      ]
     },
     "execution_count": 16,
     "metadata": {},
     "output_type": "execute_result"
    }
   ],
   "source": [
    "#check for any variables with null values\n",
    "df_dataset.isna().sum()"
   ]
  },
  {
   "cell_type": "code",
   "execution_count": 17,
   "id": "6d6563fa-ae27-43ba-8681-c70311b1eab5",
   "metadata": {},
   "outputs": [],
   "source": [
    "#convert the integer datatype variables"
   ]
  },
  {
   "cell_type": "code",
   "execution_count": 18,
   "id": "b0c4530b-b726-4728-af9f-16c7b51bda4a",
   "metadata": {},
   "outputs": [
    {
     "data": {
      "image/png": "[encoded data removed]",
      "text/plain": [
       "<Figure size 1080x1080 with 8 Axes>"
      ]
     },
     "metadata": {
      "needs_background": "light"
     },
     "output_type": "display_data"
    }
   ],
   "source": [
    "#distribution of variables\n",
    "fig,ax=plt.subplots(4,2,figsize=(15,15))\n",
    "for column,subplot in zip(df_dataset.drop(['Outcome'],axis=1),ax.flatten()):\n",
    "    sns.distplot(df_dataset[column],rug=True,ax=subplot)"
   ]
  },
  {
   "cell_type": "code",
   "execution_count": 19,
   "id": "e86fe09e-a5af-4672-9df7-3910989e7ddd",
   "metadata": {},
   "outputs": [],
   "source": [
    "#from the above plot,we can see that many of the features having zero value which can never happens in a real life scenario."
   ]
  },
  {
   "cell_type": "code",
   "execution_count": 20,
   "id": "ad84fc0d-acd2-4da2-bc67-93a57cf65405",
   "metadata": {},
   "outputs": [],
   "source": [
    "#Out these features['Glucose' 'BloodPressure' 'SkinThickness' 'Insulin' 'BMI'],a value of zero \n",
    "#does not make sense and thus indicates missing value.Now we can calculate the missing value \n",
    "#percentage in each of these columns so as to decide how to treat these values."
   ]
  },
  {
   "cell_type": "code",
   "execution_count": 21,
   "id": "c74e9ce1-7bee-45af-b7b1-0880ecf1fe51",
   "metadata": {},
   "outputs": [],
   "source": [
    "missing_value_columns=['Glucose','BloodPressure','SkinThickness','Insulin','BMI']"
   ]
  },
  {
   "cell_type": "code",
   "execution_count": 22,
   "id": "a2b4ef1f-05e0-4b8a-9e1d-5a2edf7e5620",
   "metadata": {},
   "outputs": [
    {
     "name": "stdout",
     "output_type": "stream",
     "text": [
      "No. of zeros in Glucose is 5\n",
      "Percentage of zeros in Glucose is 0.6510416666666667\n",
      "***************************\n",
      "No. of zeros in BloodPressure is 35\n",
      "Percentage of zeros in BloodPressure is 4.557291666666666\n",
      "***************************\n",
      "No. of zeros in SkinThickness is 227\n",
      "Percentage of zeros in SkinThickness is 29.557291666666668\n",
      "***************************\n",
      "No. of zeros in Insulin is 374\n",
      "Percentage of zeros in Insulin is 48.69791666666667\n",
      "***************************\n",
      "No. of zeros in BMI is 11\n",
      "Percentage of zeros in BMI is 1.4322916666666665\n",
      "***************************\n"
     ]
    }
   ],
   "source": [
    "for column in missing_value_columns:\n",
    "    print(\"No. of zeros in\",column,\"is\",df_dataset[df_dataset[column]==0].shape[0])\n",
    "    print(\"Percentage of zeros in\",column,\"is\",df_dataset[df_dataset[column]==0].shape[0]/len(df_dataset)*100)\n",
    "    print(\"***************************\")"
   ]
  },
  {
   "cell_type": "code",
   "execution_count": 23,
   "id": "bccb067e-0278-4c34-aeb9-4c72e42b572e",
   "metadata": {},
   "outputs": [],
   "source": [
    "#percentage of zeros in features like Insulin and Skin Thickness is above 20% so dropping these rows will reduce \n",
    "#the size of dataset.So it is better to replace those zeros with the mean values."
   ]
  },
  {
   "cell_type": "code",
   "execution_count": 24,
   "id": "50a1528c-296b-4f3d-a5e3-ae4d1c44e1a5",
   "metadata": {},
   "outputs": [],
   "source": [
    "for column in missing_value_columns:\n",
    "    df_dataset[column]=df_dataset[column].apply(lambda x:df_dataset[column].mean() if x==0 else x)"
   ]
  },
  {
   "cell_type": "code",
   "execution_count": 25,
   "id": "10dc1b78-d121-4616-b4af-eb7796c3080a",
   "metadata": {},
   "outputs": [
    {
     "name": "stdout",
     "output_type": "stream",
     "text": [
      "No. of zeros in Glucose is 0\n",
      "Percentage of zeros in Glucose is 0.0\n",
      "***************************\n",
      "No. of zeros in BloodPressure is 0\n",
      "Percentage of zeros in BloodPressure is 0.0\n",
      "***************************\n",
      "No. of zeros in SkinThickness is 0\n",
      "Percentage of zeros in SkinThickness is 0.0\n",
      "***************************\n",
      "No. of zeros in Insulin is 0\n",
      "Percentage of zeros in Insulin is 0.0\n",
      "***************************\n",
      "No. of zeros in BMI is 0\n",
      "Percentage of zeros in BMI is 0.0\n",
      "***************************\n"
     ]
    }
   ],
   "source": [
    "for column in missing_value_columns:\n",
    "    print(\"No. of zeros in\",column,\"is\",df_dataset[df_dataset[column]==0].shape[0])\n",
    "    print(\"Percentage of zeros in\",column,\"is\",df_dataset[df_dataset[column]==0].shape[0]/len(df_dataset)*100)\n",
    "    print(\"***************************\")"
   ]
  },
  {
   "cell_type": "code",
   "execution_count": 26,
   "id": "e5625fa0-c05a-41ce-aca9-79a3741f464b",
   "metadata": {},
   "outputs": [],
   "source": [
    "#Now check for the outliers in the features"
   ]
  },
  {
   "cell_type": "code",
   "execution_count": 27,
   "id": "0085789b-dfc6-4c72-a74d-fa0d9dc2d508",
   "metadata": {},
   "outputs": [
    {
     "data": {
      "image/png": "[encoded data removed]",
      "text/plain": [
       "<Figure size 1080x1080 with 8 Axes>"
      ]
     },
     "metadata": {
      "needs_background": "light"
     },
     "output_type": "display_data"
    }
   ],
   "source": [
    "fig,ax=plt.subplots(4,2,figsize=(15,15))\n",
    "for column,subplot in zip(df_dataset.drop(['Outcome'],axis=1),ax.flatten()):\n",
    "    sns.boxplot(x=column,data=df_dataset,ax=subplot)"
   ]
  },
  {
   "cell_type": "code",
   "execution_count": 28,
   "id": "fccd0033-6f39-42a1-b04a-99a9f923fd44",
   "metadata": {},
   "outputs": [],
   "source": [
    "#count of the person with extreme values in each features"
   ]
  },
  {
   "cell_type": "code",
   "execution_count": 29,
   "id": "2aad606c-18e8-481a-9b75-96f8a070d891",
   "metadata": {},
   "outputs": [
    {
     "data": {
      "text/plain": [
       "(13, 9)"
      ]
     },
     "execution_count": 29,
     "metadata": {},
     "output_type": "execute_result"
    }
   ],
   "source": [
    "df_dataset[df_dataset['BloodPressure']>100].shape"
   ]
  },
  {
   "cell_type": "code",
   "execution_count": 30,
   "id": "21a655ed-0290-4cfd-bbcc-7c01f38c9cf9",
   "metadata": {},
   "outputs": [
    {
     "data": {
      "text/plain": [
       "(1, 9)"
      ]
     },
     "execution_count": 30,
     "metadata": {},
     "output_type": "execute_result"
    }
   ],
   "source": [
    "df_dataset[df_dataset['SkinThickness']>80].shape"
   ]
  },
  {
   "cell_type": "code",
   "execution_count": 31,
   "id": "79777543-99c0-40ae-b711-a3aaecfa39c0",
   "metadata": {},
   "outputs": [
    {
     "data": {
      "text/plain": [
       "(8, 9)"
      ]
     },
     "execution_count": 31,
     "metadata": {},
     "output_type": "execute_result"
    }
   ],
   "source": [
    "df_dataset[df_dataset['BMI']>50].shape"
   ]
  },
  {
   "cell_type": "code",
   "execution_count": 32,
   "id": "36d83061-872e-4a2d-a463-fc61d9deb132",
   "metadata": {},
   "outputs": [
    {
     "data": {
      "text/plain": [
       "(85, 9)"
      ]
     },
     "execution_count": 32,
     "metadata": {},
     "output_type": "execute_result"
    }
   ],
   "source": [
    "df_dataset[df_dataset['Insulin']>200].shape"
   ]
  },
  {
   "cell_type": "code",
   "execution_count": 33,
   "id": "ba7823dd-b54a-41fe-abf2-05f255aade42",
   "metadata": {},
   "outputs": [],
   "source": [
    "#the person with extreme values are sometimes common,so we can leave those etremes as such"
   ]
  },
  {
   "cell_type": "code",
   "execution_count": 34,
   "id": "3e473cab-0bc7-45b8-a5ad-c89b34ba9820",
   "metadata": {},
   "outputs": [
    {
     "data": {
      "image/png": "[encoded data removed]",
      "text/plain": [
       "<Figure size 432x288 with 1 Axes>"
      ]
     },
     "metadata": {
      "needs_background": "light"
     },
     "output_type": "display_data"
    }
   ],
   "source": [
    "sns.countplot(df_dataset['Outcome']);"
   ]
  },
  {
   "cell_type": "code",
   "execution_count": 35,
   "id": "1df788fa-f20f-4d05-87f7-b46183b36473",
   "metadata": {},
   "outputs": [
    {
     "name": "stdout",
     "output_type": "stream",
     "text": [
      "The output feature 'Outcome' in % :\n",
      "\n"
     ]
    },
    {
     "data": {
      "text/plain": [
       "0.0    0.651042\n",
       "1.0    0.348958\n",
       "Name: Outcome, dtype: float64"
      ]
     },
     "execution_count": 35,
     "metadata": {},
     "output_type": "execute_result"
    }
   ],
   "source": [
    "print(\"The output feature 'Outcome' in % :\\n\")\n",
    "df_dataset['Outcome'].value_counts()/len(df_dataset)"
   ]
  },
  {
   "cell_type": "code",
   "execution_count": 36,
   "id": "fbbe3bbe-2c30-45fe-ad2b-b75557d6212a",
   "metadata": {},
   "outputs": [],
   "source": [
    "#The output feature 'Outcome' is somewhat balanced"
   ]
  },
  {
   "cell_type": "code",
   "execution_count": 37,
   "id": "b643995a-8609-4050-96df-f8c34f56e97a",
   "metadata": {},
   "outputs": [
    {
     "data": {
      "text/html": [
       "<div>\n",
       "<style scoped>\n",
       "    .dataframe tbody tr th:only-of-type {\n",
       "        vertical-align: middle;\n",
       "    }\n",
       "\n",
       "    .dataframe tbody tr th {\n",
       "        vertical-align: top;\n",
       "    }\n",
       "\n",
       "    .dataframe thead th {\n",
       "        text-align: right;\n",
       "    }\n",
       "</style>\n",
       "<table border=\"1\" class=\"dataframe\">\n",
       "  <thead>\n",
       "    <tr style=\"text-align: right;\">\n",
       "      <th></th>\n",
       "      <th>Pregnancies</th>\n",
       "      <th>Glucose</th>\n",
       "      <th>BloodPressure</th>\n",
       "      <th>SkinThickness</th>\n",
       "      <th>Insulin</th>\n",
       "      <th>BMI</th>\n",
       "      <th>DiabetesPedigreeFunction</th>\n",
       "      <th>Age</th>\n",
       "      <th>Outcome</th>\n",
       "    </tr>\n",
       "  </thead>\n",
       "  <tbody>\n",
       "    <tr>\n",
       "      <th>Pregnancies</th>\n",
       "      <td>1.000000</td>\n",
       "      <td>0.127964</td>\n",
       "      <td>0.208984</td>\n",
       "      <td>0.013376</td>\n",
       "      <td>-0.018082</td>\n",
       "      <td>0.021546</td>\n",
       "      <td>-0.033523</td>\n",
       "      <td>0.544341</td>\n",
       "      <td>0.221898</td>\n",
       "    </tr>\n",
       "    <tr>\n",
       "      <th>Glucose</th>\n",
       "      <td>0.127964</td>\n",
       "      <td>1.000000</td>\n",
       "      <td>0.219666</td>\n",
       "      <td>0.160766</td>\n",
       "      <td>0.396597</td>\n",
       "      <td>0.231478</td>\n",
       "      <td>0.137106</td>\n",
       "      <td>0.266600</td>\n",
       "      <td>0.492908</td>\n",
       "    </tr>\n",
       "    <tr>\n",
       "      <th>BloodPressure</th>\n",
       "      <td>0.208984</td>\n",
       "      <td>0.219666</td>\n",
       "      <td>1.000000</td>\n",
       "      <td>0.134155</td>\n",
       "      <td>0.010926</td>\n",
       "      <td>0.281231</td>\n",
       "      <td>0.000371</td>\n",
       "      <td>0.326740</td>\n",
       "      <td>0.162986</td>\n",
       "    </tr>\n",
       "    <tr>\n",
       "      <th>SkinThickness</th>\n",
       "      <td>0.013376</td>\n",
       "      <td>0.160766</td>\n",
       "      <td>0.134155</td>\n",
       "      <td>1.000000</td>\n",
       "      <td>0.240361</td>\n",
       "      <td>0.535703</td>\n",
       "      <td>0.154961</td>\n",
       "      <td>0.026423</td>\n",
       "      <td>0.175026</td>\n",
       "    </tr>\n",
       "    <tr>\n",
       "      <th>Insulin</th>\n",
       "      <td>-0.018082</td>\n",
       "      <td>0.396597</td>\n",
       "      <td>0.010926</td>\n",
       "      <td>0.240361</td>\n",
       "      <td>1.000000</td>\n",
       "      <td>0.189856</td>\n",
       "      <td>0.157806</td>\n",
       "      <td>0.038652</td>\n",
       "      <td>0.179185</td>\n",
       "    </tr>\n",
       "    <tr>\n",
       "      <th>BMI</th>\n",
       "      <td>0.021546</td>\n",
       "      <td>0.231478</td>\n",
       "      <td>0.281231</td>\n",
       "      <td>0.535703</td>\n",
       "      <td>0.189856</td>\n",
       "      <td>1.000000</td>\n",
       "      <td>0.153508</td>\n",
       "      <td>0.025748</td>\n",
       "      <td>0.312254</td>\n",
       "    </tr>\n",
       "    <tr>\n",
       "      <th>DiabetesPedigreeFunction</th>\n",
       "      <td>-0.033523</td>\n",
       "      <td>0.137106</td>\n",
       "      <td>0.000371</td>\n",
       "      <td>0.154961</td>\n",
       "      <td>0.157806</td>\n",
       "      <td>0.153508</td>\n",
       "      <td>1.000000</td>\n",
       "      <td>0.033561</td>\n",
       "      <td>0.173844</td>\n",
       "    </tr>\n",
       "    <tr>\n",
       "      <th>Age</th>\n",
       "      <td>0.544341</td>\n",
       "      <td>0.266600</td>\n",
       "      <td>0.326740</td>\n",
       "      <td>0.026423</td>\n",
       "      <td>0.038652</td>\n",
       "      <td>0.025748</td>\n",
       "      <td>0.033561</td>\n",
       "      <td>1.000000</td>\n",
       "      <td>0.238356</td>\n",
       "    </tr>\n",
       "    <tr>\n",
       "      <th>Outcome</th>\n",
       "      <td>0.221898</td>\n",
       "      <td>0.492908</td>\n",
       "      <td>0.162986</td>\n",
       "      <td>0.175026</td>\n",
       "      <td>0.179185</td>\n",
       "      <td>0.312254</td>\n",
       "      <td>0.173844</td>\n",
       "      <td>0.238356</td>\n",
       "      <td>1.000000</td>\n",
       "    </tr>\n",
       "  </tbody>\n",
       "</table>\n",
       "</div>"
      ],
      "text/plain": [
       "                          Pregnancies   Glucose  BloodPressure  SkinThickness  \\\n",
       "Pregnancies                  1.000000  0.127964       0.208984       0.013376   \n",
       "Glucose                      0.127964  1.000000       0.219666       0.160766   \n",
       "BloodPressure                0.208984  0.219666       1.000000       0.134155   \n",
       "SkinThickness                0.013376  0.160766       0.134155       1.000000   \n",
       "Insulin                     -0.018082  0.396597       0.010926       0.240361   \n",
       "BMI                          0.021546  0.231478       0.281231       0.535703   \n",
       "DiabetesPedigreeFunction    -0.033523  0.137106       0.000371       0.154961   \n",
       "Age                          0.544341  0.266600       0.326740       0.026423   \n",
       "Outcome                      0.221898  0.492908       0.162986       0.175026   \n",
       "\n",
       "                           Insulin       BMI  DiabetesPedigreeFunction  \\\n",
       "Pregnancies              -0.018082  0.021546                 -0.033523   \n",
       "Glucose                   0.396597  0.231478                  0.137106   \n",
       "BloodPressure             0.010926  0.281231                  0.000371   \n",
       "SkinThickness             0.240361  0.535703                  0.154961   \n",
       "Insulin                   1.000000  0.189856                  0.157806   \n",
       "BMI                       0.189856  1.000000                  0.153508   \n",
       "DiabetesPedigreeFunction  0.157806  0.153508                  1.000000   \n",
       "Age                       0.038652  0.025748                  0.033561   \n",
       "Outcome                   0.179185  0.312254                  0.173844   \n",
       "\n",
       "                               Age   Outcome  \n",
       "Pregnancies               0.544341  0.221898  \n",
       "Glucose                   0.266600  0.492908  \n",
       "BloodPressure             0.326740  0.162986  \n",
       "SkinThickness             0.026423  0.175026  \n",
       "Insulin                   0.038652  0.179185  \n",
       "BMI                       0.025748  0.312254  \n",
       "DiabetesPedigreeFunction  0.033561  0.173844  \n",
       "Age                       1.000000  0.238356  \n",
       "Outcome                   0.238356  1.000000  "
      ]
     },
     "execution_count": 37,
     "metadata": {},
     "output_type": "execute_result"
    }
   ],
   "source": [
    "#check the correlation between the variables\n",
    "corr_matrix=df_dataset.corr()\n",
    "corr_matrix"
   ]
  },
  {
   "cell_type": "code",
   "execution_count": 38,
   "id": "661f1c06-b24d-4c22-b539-3a423b176453",
   "metadata": {},
   "outputs": [
    {
     "data": {
      "image/png": "[encoded data removed]",
      "text/plain": [
       "<Figure size 720x720 with 2 Axes>"
      ]
     },
     "metadata": {
      "needs_background": "light"
     },
     "output_type": "display_data"
    }
   ],
   "source": [
    "plt.figure(figsize=(10,10))\n",
    "mask=np.triu(np.ones_like(corr_matrix))\n",
    "sns.heatmap(corr_matrix,vmin=-1,vmax=1,annot=True,cmap='RdYlGn',mask=mask,linecolor='white',linewidths=0.5)\n",
    "plt.show()"
   ]
  },
  {
   "cell_type": "code",
   "execution_count": 39,
   "id": "882f636a-3320-4017-b5e6-bde0ca6591ec",
   "metadata": {},
   "outputs": [],
   "source": [
    "#The feature 'Glucose' only has a good direct correlation with the 'Outcome'.The other features has \n",
    "#only a low or very low correlation with the output feature.\n",
    "#no multicollinearity so proceed with all the features for training the dataset"
   ]
  },
  {
   "cell_type": "markdown",
   "id": "7f9017f6-4ea4-4ea8-b2ed-f20f4c346f26",
   "metadata": {},
   "source": [
    "##### Training and Testing dataset"
   ]
  },
  {
   "cell_type": "code",
   "execution_count": 40,
   "id": "2804dfb0-00d5-4075-985d-be04d2ee0e47",
   "metadata": {},
   "outputs": [],
   "source": [
    "features=df_dataset.drop(['Outcome'],axis=1)"
   ]
  },
  {
   "cell_type": "code",
   "execution_count": 41,
   "id": "15b3cd68-ab70-4da6-9ba7-fce30a7bf91d",
   "metadata": {},
   "outputs": [],
   "source": [
    "target=df_dataset['Outcome']"
   ]
  },
  {
   "cell_type": "code",
   "execution_count": 42,
   "id": "6ff51be0-5679-4a9a-95b3-e8547d654286",
   "metadata": {},
   "outputs": [
    {
     "data": {
      "text/plain": [
       "0.0    500\n",
       "1.0    268\n",
       "Name: Outcome, dtype: int64"
      ]
     },
     "execution_count": 42,
     "metadata": {},
     "output_type": "execute_result"
    }
   ],
   "source": [
    "df_dataset['Outcome'].value_counts()"
   ]
  },
  {
   "cell_type": "code",
   "execution_count": 43,
   "id": "2a43a18e-7cc2-43f3-8070-9c9094b32a37",
   "metadata": {},
   "outputs": [],
   "source": [
    "#!pip install imbalanced-learn"
   ]
  },
  {
   "cell_type": "code",
   "execution_count": 44,
   "id": "d4445b0c-68a0-4a2a-a17b-d404ae6aec57",
   "metadata": {},
   "outputs": [],
   "source": [
    "from imblearn.over_sampling import RandomOverSampler\n",
    "os=RandomOverSampler(sampling_strategy='minority')"
   ]
  },
  {
   "cell_type": "code",
   "execution_count": 45,
   "id": "c64be62c-3bf6-494e-80ee-cd221d613e0c",
   "metadata": {},
   "outputs": [],
   "source": [
    "X,y=os.fit_resample(features,target)"
   ]
  },
  {
   "cell_type": "code",
   "execution_count": 46,
   "id": "83f43c29-ff2b-4e2a-8cfb-1f012558139c",
   "metadata": {},
   "outputs": [
    {
     "data": {
      "text/plain": [
       "((1000, 8), (1000,))"
      ]
     },
     "execution_count": 46,
     "metadata": {},
     "output_type": "execute_result"
    }
   ],
   "source": [
    "X.shape,y.shape"
   ]
  },
  {
   "cell_type": "code",
   "execution_count": 47,
   "id": "478aff18-3108-4072-912d-52babb220133",
   "metadata": {},
   "outputs": [
    {
     "data": {
      "text/plain": [
       "1.0    500\n",
       "0.0    500\n",
       "Name: Outcome, dtype: int64"
      ]
     },
     "execution_count": 47,
     "metadata": {},
     "output_type": "execute_result"
    }
   ],
   "source": [
    "y.value_counts()"
   ]
  },
  {
   "cell_type": "code",
   "execution_count": 48,
   "id": "529c788b-0975-4545-a358-168d2ddbe7d0",
   "metadata": {},
   "outputs": [],
   "source": [
    "X_train,X_test,y_train,y_test=train_test_split(X,y,train_size=0.7,random_state=42)"
   ]
  },
  {
   "cell_type": "code",
   "execution_count": 49,
   "id": "49851b56-1ec2-4261-b259-57266ff380c4",
   "metadata": {},
   "outputs": [],
   "source": [
    "rf_classifier = RandomForestClassifier()"
   ]
  },
  {
   "cell_type": "code",
   "execution_count": 50,
   "id": "e6c1bf2b-9c0a-4ef6-a252-b01408cc6242",
   "metadata": {},
   "outputs": [
    {
     "data": {
      "text/plain": [
       "RandomForestClassifier()"
      ]
     },
     "execution_count": 50,
     "metadata": {},
     "output_type": "execute_result"
    }
   ],
   "source": [
    "rf_classifier.fit(X_train, y_train)"
   ]
  },
  {
   "cell_type": "code",
   "execution_count": 51,
   "id": "0ac51523-5e58-4a05-966b-5db4c2a6a4a0",
   "metadata": {},
   "outputs": [],
   "source": [
    "y_pred = rf_classifier.predict(X_test)"
   ]
  },
  {
   "cell_type": "code",
   "execution_count": 52,
   "id": "4106c1fa-cdd9-41e2-903e-28b0b1a93c68",
   "metadata": {},
   "outputs": [
    {
     "name": "stdout",
     "output_type": "stream",
     "text": [
      "TEST RESULTS\n",
      "---------------\n",
      "Mean absolute error on test data: 0.16333333333333333\n",
      "Mean squared error on test data: 0.16333333333333333\n",
      "Root mean squared error on test data: 0.40414518843273806\n",
      "The confusion_matrix for RandomForestClassifier : \n",
      " [[115  34]\n",
      " [ 15 136]]\n",
      "The classification_report for RandomForestClassifier : \n",
      "               precision    recall  f1-score   support\n",
      "\n",
      "         0.0       0.88      0.77      0.82       149\n",
      "         1.0       0.80      0.90      0.85       151\n",
      "\n",
      "    accuracy                           0.84       300\n",
      "   macro avg       0.84      0.84      0.84       300\n",
      "weighted avg       0.84      0.84      0.84       300\n",
      "\n"
     ]
    }
   ],
   "source": [
    "print(\"TEST RESULTS\")\n",
    "print(\"---------------\")\n",
    "print(\"Mean absolute error on test data:\",mean_absolute_error(y_pred,y_test))\n",
    "print(\"Mean squared error on test data:\",mean_squared_error(y_pred,y_test))\n",
    "print(\"Root mean squared error on test data:\",np.sqrt(mean_squared_error(y_pred,y_test)))\n",
    "print(\"The confusion_matrix for RandomForestClassifier : \\n\",confusion_matrix(y_test, y_pred))\n",
    "print(\"The classification_report for RandomForestClassifier : \\n\",classification_report(y_test, y_pred))"
   ]
  },
  {
   "cell_type": "code",
   "execution_count": 53,
   "id": "bf2e406c-2dc6-4301-b2e1-507e58bcd708",
   "metadata": {},
   "outputs": [
    {
     "name": "stdout",
     "output_type": "stream",
     "text": [
      "The test accuracy for RandomForestClassifier :  0.8366666666666667\n",
      "Recall score: 0.9006622516556292\n"
     ]
    }
   ],
   "source": [
    "print(\"The test accuracy for RandomForestClassifier : \",accuracy_score(y_test,y_pred))\n",
    "print(\"Recall score:\",recall_score(y_test,y_pred))"
   ]
  },
  {
   "cell_type": "code",
   "execution_count": 54,
   "id": "50cca528-98dd-49c4-97b9-b16dbd59a1d4",
   "metadata": {},
   "outputs": [],
   "source": [
    "error_rate=[]\n",
    "for k in range(1,40):\n",
    "    knn_classifier=KNeighborsClassifier(n_neighbors=k)\n",
    "    knn_classifier.fit(X_train, y_train)\n",
    "    predicted_knn=knn_classifier.predict(X_test)\n",
    "    error_rate.append(np.mean(predicted_knn!=y_test))"
   ]
  },
  {
   "cell_type": "code",
   "execution_count": 55,
   "id": "fca229fe-274c-4964-9830-0d6f5b853426",
   "metadata": {},
   "outputs": [
    {
     "data": {
      "text/plain": [
       "Text(0, 0.5, 'Scores')"
      ]
     },
     "execution_count": 55,
     "metadata": {},
     "output_type": "execute_result"
    },
    {
     "data": {
      "image/png": "[encoded data removed]",
      "text/plain": [
       "<Figure size 1440x1080 with 1 Axes>"
      ]
     },
     "metadata": {
      "needs_background": "light"
     },
     "output_type": "display_data"
    }
   ],
   "source": [
    "plt.figure(figsize=(20,15))\n",
    "plt.plot([k for k in range(1,40)],error_rate,color='red')\n",
    "for i in range(1,40):\n",
    "    plt.text(i,error_rate[i-1],(i,error_rate[i-1]))\n",
    "plt.xticks([i for i in range(1,40)])\n",
    "plt.xlabel('Number of Neighbors(k)')\n",
    "plt.ylabel('Scores')"
   ]
  },
  {
   "cell_type": "code",
   "execution_count": 56,
   "id": "e391e1ac-d947-4bcd-8882-21ddea0f92b3",
   "metadata": {},
   "outputs": [],
   "source": [
    "knn_classifier=KNeighborsClassifier(n_neighbors=3)\n",
    "knn_classifier.fit(X_train, y_train)\n",
    "predicted_knn=knn_classifier.predict(X_test)"
   ]
  },
  {
   "cell_type": "code",
   "execution_count": 57,
   "id": "d5aa2fb2-2886-4fc8-9d2e-93017cf5787a",
   "metadata": {},
   "outputs": [
    {
     "name": "stdout",
     "output_type": "stream",
     "text": [
      "TEST RESULTS\n",
      "---------------\n",
      "The test accuracy for KNNClassifier :  0.7166666666666667\n",
      "The confusion_matrix for KNNClassifier : \n",
      " [[100  49]\n",
      " [ 36 115]]\n",
      "Recall score: 0.7615894039735099\n",
      "The classification_report for KNNClassifier : \n",
      "               precision    recall  f1-score   support\n",
      "\n",
      "         0.0       0.74      0.67      0.70       149\n",
      "         1.0       0.70      0.76      0.73       151\n",
      "\n",
      "    accuracy                           0.72       300\n",
      "   macro avg       0.72      0.72      0.72       300\n",
      "weighted avg       0.72      0.72      0.72       300\n",
      "\n"
     ]
    }
   ],
   "source": [
    "print(\"TEST RESULTS\")\n",
    "print(\"---------------\")\n",
    "print(\"The test accuracy for KNNClassifier : \",accuracy_score(y_test,predicted_knn))\n",
    "print(\"The confusion_matrix for KNNClassifier : \\n\",confusion_matrix(y_test,predicted_knn))\n",
    "print(\"Recall score:\",recall_score(y_test,predicted_knn))\n",
    "print(\"The classification_report for KNNClassifier : \\n\",classification_report(y_test,predicted_knn))"
   ]
  },
  {
   "cell_type": "code",
   "execution_count": 58,
   "id": "262aa1f3-a1eb-42ee-8cc8-7811cf407650",
   "metadata": {},
   "outputs": [],
   "source": [
    "svc = SVC(kernel='sigmoid', gamma=1.0)\n",
    "knc = KNeighborsClassifier()\n",
    "mnb = MultinomialNB()\n",
    "dtc = DecisionTreeClassifier()\n",
    "lrc = LogisticRegression()\n",
    "rfc = RandomForestClassifier()\n",
    "abc = AdaBoostClassifier()\n",
    "bc = BaggingClassifier()\n",
    "etc = ExtraTreesClassifier()\n",
    "gbdt = GradientBoostingClassifier()\n",
    "xgb = XGBClassifier()"
   ]
  },
  {
   "cell_type": "code",
   "execution_count": 59,
   "id": "ae1eb477-d83d-4b5c-be7f-b398e44d0672",
   "metadata": {},
   "outputs": [],
   "source": [
    "clfs = {\n",
    "    'support vector classifier' : svc,\n",
    "    'KNeighbors classifier' : knc, \n",
    "    'MultinomialNB': mnb, \n",
    "    'Decision Tree': dtc, \n",
    "    'Logistic regression': lrc, \n",
    "    'Random Forest': rfc, \n",
    "    'AdaBoost': abc, \n",
    "    'Bagging classifier': bc, \n",
    "    'Extra trees classifier': etc,\n",
    "    'Gradient boosting':gbdt,\n",
    "    'xgb classifier':xgb\n",
    "}"
   ]
  },
  {
   "cell_type": "code",
   "execution_count": 60,
   "id": "bf4b28e6-8c35-4bbe-bab8-ea2863887866",
   "metadata": {},
   "outputs": [],
   "source": [
    "accuracy_scores=[]\n",
    "recall_scores=[]\n",
    "for name,clf in clfs.items():\n",
    "    clf.fit(X_train,y_train)\n",
    "    y_pred= clf.predict(X_test)\n",
    "    accuracy=accuracy_score(y_test,y_pred)\n",
    "    recall=recall_score(y_test,y_pred)\n",
    "    accuracy_scores.append(accuracy)\n",
    "    recall_scores.append(recall)"
   ]
  },
  {
   "cell_type": "code",
   "execution_count": 61,
   "id": "112c0ccf-9e78-4215-9ba9-47b73a2c6d0b",
   "metadata": {},
   "outputs": [],
   "source": [
    "model_performances = pd.DataFrame({'Algorithm':clfs.keys(),'Accuracy':accuracy_scores,'Recall':recall_scores}).sort_values('Recall',ascending=False)"
   ]
  },
  {
   "cell_type": "code",
   "execution_count": 62,
   "id": "a2bfeec7-b6f4-4646-953f-66ff3426fa4f",
   "metadata": {},
   "outputs": [
    {
     "data": {
      "text/html": [
       "<div>\n",
       "<style scoped>\n",
       "    .dataframe tbody tr th:only-of-type {\n",
       "        vertical-align: middle;\n",
       "    }\n",
       "\n",
       "    .dataframe tbody tr th {\n",
       "        vertical-align: top;\n",
       "    }\n",
       "\n",
       "    .dataframe thead th {\n",
       "        text-align: right;\n",
       "    }\n",
       "</style>\n",
       "<table border=\"1\" class=\"dataframe\">\n",
       "  <thead>\n",
       "    <tr style=\"text-align: right;\">\n",
       "      <th></th>\n",
       "      <th>Algorithm</th>\n",
       "      <th>Accuracy</th>\n",
       "      <th>Recall</th>\n",
       "    </tr>\n",
       "  </thead>\n",
       "  <tbody>\n",
       "    <tr>\n",
       "      <th>5</th>\n",
       "      <td>Random Forest</td>\n",
       "      <td>0.830000</td>\n",
       "      <td>0.894040</td>\n",
       "    </tr>\n",
       "    <tr>\n",
       "      <th>3</th>\n",
       "      <td>Decision Tree</td>\n",
       "      <td>0.806667</td>\n",
       "      <td>0.887417</td>\n",
       "    </tr>\n",
       "    <tr>\n",
       "      <th>10</th>\n",
       "      <td>xgb classifier</td>\n",
       "      <td>0.803333</td>\n",
       "      <td>0.880795</td>\n",
       "    </tr>\n",
       "    <tr>\n",
       "      <th>8</th>\n",
       "      <td>Extra trees classifier</td>\n",
       "      <td>0.840000</td>\n",
       "      <td>0.867550</td>\n",
       "    </tr>\n",
       "    <tr>\n",
       "      <th>9</th>\n",
       "      <td>Gradient boosting</td>\n",
       "      <td>0.803333</td>\n",
       "      <td>0.860927</td>\n",
       "    </tr>\n",
       "    <tr>\n",
       "      <th>7</th>\n",
       "      <td>Bagging classifier</td>\n",
       "      <td>0.833333</td>\n",
       "      <td>0.854305</td>\n",
       "    </tr>\n",
       "    <tr>\n",
       "      <th>6</th>\n",
       "      <td>AdaBoost</td>\n",
       "      <td>0.760000</td>\n",
       "      <td>0.814570</td>\n",
       "    </tr>\n",
       "    <tr>\n",
       "      <th>4</th>\n",
       "      <td>Logistic regression</td>\n",
       "      <td>0.763333</td>\n",
       "      <td>0.754967</td>\n",
       "    </tr>\n",
       "    <tr>\n",
       "      <th>1</th>\n",
       "      <td>KNeighbors classifier</td>\n",
       "      <td>0.693333</td>\n",
       "      <td>0.728477</td>\n",
       "    </tr>\n",
       "    <tr>\n",
       "      <th>2</th>\n",
       "      <td>MultinomialNB</td>\n",
       "      <td>0.636667</td>\n",
       "      <td>0.516556</td>\n",
       "    </tr>\n",
       "    <tr>\n",
       "      <th>0</th>\n",
       "      <td>support vector classifier</td>\n",
       "      <td>0.496667</td>\n",
       "      <td>0.000000</td>\n",
       "    </tr>\n",
       "  </tbody>\n",
       "</table>\n",
       "</div>"
      ],
      "text/plain": [
       "                    Algorithm  Accuracy    Recall\n",
       "5               Random Forest  0.830000  0.894040\n",
       "3               Decision Tree  0.806667  0.887417\n",
       "10             xgb classifier  0.803333  0.880795\n",
       "8      Extra trees classifier  0.840000  0.867550\n",
       "9           Gradient boosting  0.803333  0.860927\n",
       "7          Bagging classifier  0.833333  0.854305\n",
       "6                    AdaBoost  0.760000  0.814570\n",
       "4         Logistic regression  0.763333  0.754967\n",
       "1       KNeighbors classifier  0.693333  0.728477\n",
       "2               MultinomialNB  0.636667  0.516556\n",
       "0   support vector classifier  0.496667  0.000000"
      ]
     },
     "execution_count": 62,
     "metadata": {},
     "output_type": "execute_result"
    }
   ],
   "source": [
    "model_performances"
   ]
  },
  {
   "cell_type": "code",
   "execution_count": 63,
   "id": "b6262c32-95a7-4a74-bf08-8fb303687ef6",
   "metadata": {},
   "outputs": [],
   "source": [
    "#now we can try to improve the accuracy in random forest classifier"
   ]
  },
  {
   "cell_type": "code",
   "execution_count": 64,
   "id": "ce32d7e6-12c3-4af6-b658-38586e98f28d",
   "metadata": {},
   "outputs": [],
   "source": [
    "n_estimators=[int(x) for x in np.linspace(start=10,stop=2000,num=10)]\n",
    "#The number of trees in the forest.\n",
    "criterion=['gini','entropy','log_loss']\n",
    "#The function to measure the quality of a split\n",
    "max_features=['auto','sqrt','log2','None']\n",
    "#The number of features to consider when looking for the best split\n",
    "max_depth=[int(x) for x in np.linspace(10,1000,10)]\n",
    "#The maximum depth of the tree\n",
    "min_samples_split=[2,5,10,14]\n",
    "#The minimum number of samples required to split an internal node\n",
    "min_samples_leaf=[1,2,4,6,8] \n",
    "#The minimum number of samples required to be at a leaf node."
   ]
  },
  {
   "cell_type": "code",
   "execution_count": 65,
   "id": "7945bde0-642d-4439-be14-a2853c9ddc38",
   "metadata": {},
   "outputs": [],
   "source": [
    "#create the random grid\n",
    "random_grid={'n_estimators':n_estimators,'criterion':criterion,'max_features':max_features,\n",
    "             'max_depth':max_depth,'min_samples_split':min_samples_split,'min_samples_leaf':min_samples_leaf}"
   ]
  },
  {
   "cell_type": "code",
   "execution_count": 66,
   "id": "1b577243-5ac8-4c48-81e3-7692a0c176db",
   "metadata": {},
   "outputs": [],
   "source": [
    "rf_random_cv=RandomizedSearchCV(rf_classifier,param_distributions=random_grid,n_iter=100,cv=3,verbose=2,\n",
    "                                random_state=42,n_jobs=-1)"
   ]
  },
  {
   "cell_type": "code",
   "execution_count": 67,
   "id": "648ca0cd-50df-4679-a240-1be6cecbf805",
   "metadata": {},
   "outputs": [
    {
     "name": "stdout",
     "output_type": "stream",
     "text": [
      "Fitting 3 folds for each of 100 candidates, totalling 300 fits\n"
     ]
    },
    {
     "data": {
      "text/plain": [
       "RandomizedSearchCV(cv=3, estimator=RandomForestClassifier(), n_iter=100,\n",
       "                   n_jobs=-1,\n",
       "                   param_distributions={'criterion': ['gini', 'entropy',\n",
       "                                                      'log_loss'],\n",
       "                                        'max_depth': [10, 120, 230, 340, 450,\n",
       "                                                      560, 670, 780, 890,\n",
       "                                                      1000],\n",
       "                                        'max_features': ['auto', 'sqrt', 'log2',\n",
       "                                                         'None'],\n",
       "                                        'min_samples_leaf': [1, 2, 4, 6, 8],\n",
       "                                        'min_samples_split': [2, 5, 10, 14],\n",
       "                                        'n_estimators': [10, 231, 452, 673, 894,\n",
       "                                                         1115, 1336, 1557, 1778,\n",
       "                                                         2000]},\n",
       "                   random_state=42, verbose=2)"
      ]
     },
     "execution_count": 67,
     "metadata": {},
     "output_type": "execute_result"
    }
   ],
   "source": [
    "rf_random_cv.fit(X_train,y_train)"
   ]
  },
  {
   "cell_type": "code",
   "execution_count": 68,
   "id": "1aa6bba9-fca1-4836-9a66-ccded9e77eda",
   "metadata": {},
   "outputs": [
    {
     "data": {
      "text/plain": [
       "{'n_estimators': 452,\n",
       " 'min_samples_split': 5,\n",
       " 'min_samples_leaf': 1,\n",
       " 'max_features': 'sqrt',\n",
       " 'max_depth': 340,\n",
       " 'criterion': 'gini'}"
      ]
     },
     "execution_count": 68,
     "metadata": {},
     "output_type": "execute_result"
    }
   ],
   "source": [
    "rf_random_cv.best_params_"
   ]
  },
  {
   "cell_type": "code",
   "execution_count": 69,
   "id": "b39a691b-b24b-4298-a75f-78544131b392",
   "metadata": {},
   "outputs": [
    {
     "data": {
      "text/plain": [
       "RandomForestClassifier(max_depth=340, max_features='sqrt', min_samples_split=5,\n",
       "                       n_estimators=452)"
      ]
     },
     "execution_count": 69,
     "metadata": {},
     "output_type": "execute_result"
    }
   ],
   "source": [
    "rf_random_cv.best_estimator_"
   ]
  },
  {
   "cell_type": "code",
   "execution_count": 70,
   "id": "84ebc1fe-7a2d-4870-9282-16d4b162c0d2",
   "metadata": {},
   "outputs": [],
   "source": [
    "y_pred_rf = rf_random_cv.predict(X_test)"
   ]
  },
  {
   "cell_type": "code",
   "execution_count": 71,
   "id": "4b4e9458-7ba6-4828-afd7-4fa8a0c94b26",
   "metadata": {},
   "outputs": [
    {
     "name": "stdout",
     "output_type": "stream",
     "text": [
      "TEST RESULTS\n",
      "---------------\n",
      "The test accuracy for RandomForestClassifier :  0.8266666666666667\n",
      "The recall score for RandomForestClassifier :  0.8874172185430463\n",
      "The confusion_matrix for RandomForestClassifier : \n",
      " [[114  35]\n",
      " [ 17 134]]\n",
      "The classification_report for RandomForestClassifier : \n",
      "               precision    recall  f1-score   support\n",
      "\n",
      "         0.0       0.87      0.77      0.81       149\n",
      "         1.0       0.79      0.89      0.84       151\n",
      "\n",
      "    accuracy                           0.83       300\n",
      "   macro avg       0.83      0.83      0.83       300\n",
      "weighted avg       0.83      0.83      0.83       300\n",
      "\n"
     ]
    }
   ],
   "source": [
    "print(\"TEST RESULTS\")\n",
    "print(\"---------------\")\n",
    "print(\"The test accuracy for RandomForestClassifier : \",accuracy_score(y_test,y_pred_rf))\n",
    "print(\"The recall score for RandomForestClassifier : \",recall_score(y_test,y_pred_rf))\n",
    "print(\"The confusion_matrix for RandomForestClassifier : \\n\",confusion_matrix(y_test,y_pred_rf))\n",
    "print(\"The classification_report for RandomForestClassifier : \\n\",classification_report(y_test,y_pred_rf))"
   ]
  },
  {
   "cell_type": "code",
   "execution_count": 73,
   "id": "595f0fa8-cf0e-4f71-87d6-63e081901524",
   "metadata": {},
   "outputs": [],
   "source": [
    "#create the grid search\n",
    "param_grid={'n_estimators':[rf_random_cv.best_params_['n_estimators'],\n",
    "                            rf_random_cv.best_params_['n_estimators']-100,\n",
    "                            rf_random_cv.best_params_['n_estimators']+100],\n",
    "            'criterion':[rf_random_cv.best_params_['criterion']],\n",
    "            'max_features':[rf_random_cv.best_params_['max_features']],\n",
    "            'max_depth':[rf_random_cv.best_params_['max_depth']],\n",
    "            \n",
    "            'min_samples_split':[rf_random_cv.best_params_['min_samples_split']-2,\n",
    "                                 rf_random_cv.best_params_['min_samples_split'],\n",
    "                                 rf_random_cv.best_params_['min_samples_split']+2],\n",
    "            \n",
    "            \n",
    "            'min_samples_leaf':[rf_random_cv.best_params_['min_samples_leaf'],\n",
    "                                rf_random_cv.best_params_['min_samples_leaf']+6,\n",
    "                                rf_random_cv.best_params_['min_samples_leaf']+8]}"
   ]
  },
  {
   "cell_type": "code",
   "execution_count": 76,
   "id": "504f19c0-caf6-4a6b-898b-8fb07a43209a",
   "metadata": {},
   "outputs": [],
   "source": [
    "cv=StratifiedKFold(n_splits=10,random_state=None,shuffle=False)"
   ]
  },
  {
   "cell_type": "code",
   "execution_count": 77,
   "id": "ed570fcd-63cf-4d09-965e-413ffd2b0d40",
   "metadata": {},
   "outputs": [],
   "source": [
    "grid_search = GridSearchCV(rf_classifier,param_grid=param_grid,cv=cv,n_jobs=-1,verbose=2)"
   ]
  },
  {
   "cell_type": "code",
   "execution_count": 78,
   "id": "4ee78d72-6dcd-40af-945a-16c28cb6e861",
   "metadata": {},
   "outputs": [
    {
     "name": "stdout",
     "output_type": "stream",
     "text": [
      "Fitting 10 folds for each of 27 candidates, totalling 270 fits\n"
     ]
    },
    {
     "data": {
      "text/plain": [
       "GridSearchCV(cv=StratifiedKFold(n_splits=10, random_state=None, shuffle=False),\n",
       "             estimator=RandomForestClassifier(), n_jobs=-1,\n",
       "             param_grid={'criterion': ['gini'], 'max_depth': [340],\n",
       "                         'max_features': ['sqrt'],\n",
       "                         'min_samples_leaf': [1, 7, 9],\n",
       "                         'min_samples_split': [3, 5, 7],\n",
       "                         'n_estimators': [452, 352, 552]},\n",
       "             verbose=2)"
      ]
     },
     "execution_count": 78,
     "metadata": {},
     "output_type": "execute_result"
    }
   ],
   "source": [
    "grid_search.fit(X_train,y_train)"
   ]
  },
  {
   "cell_type": "code",
   "execution_count": 79,
   "id": "2264a801-ef1e-4bc8-bd4e-cc06a74ccb3e",
   "metadata": {},
   "outputs": [
    {
     "data": {
      "text/plain": [
       "{'criterion': 'gini',\n",
       " 'max_depth': 340,\n",
       " 'max_features': 'sqrt',\n",
       " 'min_samples_leaf': 1,\n",
       " 'min_samples_split': 3,\n",
       " 'n_estimators': 452}"
      ]
     },
     "execution_count": 79,
     "metadata": {},
     "output_type": "execute_result"
    }
   ],
   "source": [
    "grid_search.best_params_"
   ]
  },
  {
   "cell_type": "code",
   "execution_count": 80,
   "id": "92a0d050-2d6a-45ce-8e8c-abf016c70280",
   "metadata": {},
   "outputs": [],
   "source": [
    "y_pred_rf=grid_search.predict(X_test)"
   ]
  },
  {
   "cell_type": "code",
   "execution_count": 82,
   "id": "6b7c21a9-3530-4cd4-beff-f513c52d14a8",
   "metadata": {},
   "outputs": [
    {
     "name": "stdout",
     "output_type": "stream",
     "text": [
      "TEST RESULTS\n",
      "---------------\n",
      "The test accuracy for RandomForestClassifier :  0.8266666666666667\n",
      "The recall score for RandomForestClassifier :  0.9006622516556292\n",
      "The confusion_matrix for RandomForestClassifier : \n",
      " [[112  37]\n",
      " [ 15 136]]\n",
      "The classification_report for RandomForestClassifier : \n",
      "               precision    recall  f1-score   support\n",
      "\n",
      "         0.0       0.88      0.75      0.81       149\n",
      "         1.0       0.79      0.90      0.84       151\n",
      "\n",
      "    accuracy                           0.83       300\n",
      "   macro avg       0.83      0.83      0.83       300\n",
      "weighted avg       0.83      0.83      0.83       300\n",
      "\n"
     ]
    }
   ],
   "source": [
    "print(\"TEST RESULTS\")\n",
    "print(\"---------------\")\n",
    "print(\"The test accuracy for RandomForestClassifier : \",accuracy_score(y_test,y_pred_rf))\n",
    "print(\"The recall score for RandomForestClassifier : \",recall_score(y_test,y_pred_rf))\n",
    "print(\"The confusion_matrix for RandomForestClassifier : \\n\",confusion_matrix(y_test,y_pred_rf))\n",
    "print(\"The classification_report for RandomForestClassifier : \\n\",classification_report(y_test,y_pred_rf))"
   ]
  },
  {
   "cell_type": "markdown",
   "id": "dc8b1478-cb36-4dc3-821d-10f501ce6508",
   "metadata": {},
   "source": [
    "#### Data Prediction"
   ]
  },
  {
   "cell_type": "code",
   "execution_count": 83,
   "id": "4927d84e-4774-42f0-a242-5b48a9781cd3",
   "metadata": {},
   "outputs": [
    {
     "data": {
      "text/plain": [
       "array([[  6.        , 148.        ,  72.        ,  35.        ,\n",
       "         79.79947917,  33.6       ,   0.627     ,  50.        ]])"
      ]
     },
     "execution_count": 83,
     "metadata": {},
     "output_type": "execute_result"
    }
   ],
   "source": [
    "np.array(features)[0].reshape(1,-1)"
   ]
  },
  {
   "cell_type": "code",
   "execution_count": 85,
   "id": "f9a16694-4fec-4090-870a-dbb6fd196222",
   "metadata": {},
   "outputs": [
    {
     "data": {
      "text/plain": [
       "array([1.])"
      ]
     },
     "execution_count": 85,
     "metadata": {},
     "output_type": "execute_result"
    }
   ],
   "source": [
    "grid_search.predict(np.array(features)[0].reshape(1,-1))"
   ]
  },
  {
   "cell_type": "markdown",
   "id": "5b9ba8f3-1e94-4b88-ac94-92efe879a562",
   "metadata": {},
   "source": [
    "#### Accuracy for Gridsearch RandomForestClassifier :  0.8266666666666667\n",
    "#### Recall score for RandomForestClassifier :  0.9006622516556292"
   ]
  },
  {
   "cell_type": "markdown",
   "id": "ccfbd36b-e928-49b7-8f69-17be805d2a99",
   "metadata": {},
   "source": [
    "#### Pickle the model"
   ]
  },
  {
   "cell_type": "code",
   "execution_count": 86,
   "id": "23478bc4-1e6c-4c58-aede-eee49f00419a",
   "metadata": {},
   "outputs": [],
   "source": [
    "#dump information to the file where we want to store the data\n",
    "pickle.dump(grid_search,open('diabetes_model.pkl','wb'))"
   ]
  },
  {
   "cell_type": "code",
   "execution_count": 88,
   "id": "b3072d61-fcd2-41f0-a52f-aa7e1380aaa3",
   "metadata": {},
   "outputs": [],
   "source": [
    "pickle_model=pickle.load(open('diabetes_model.pkl','rb'))"
   ]
  },
  {
   "cell_type": "code",
   "execution_count": 89,
   "id": "c58f7c72-88e2-440b-b252-b502eb33b3bc",
   "metadata": {},
   "outputs": [
    {
     "data": {
      "text/plain": [
       "array([1.])"
      ]
     },
     "execution_count": 89,
     "metadata": {},
     "output_type": "execute_result"
    }
   ],
   "source": [
    "pickle_model.predict(np.array(features)[0].reshape(1,-1))"
   ]
  }
 ],
 "metadata": {
  "kernelspec": {
   "display_name": "Python 3 (ipykernel)",
   "language": "python",
   "name": "python3"
  },
  "language_info": {
   "codemirror_mode": {
    "name": "ipython",
    "version": 3
   },
   "file_extension": ".py",
   "mimetype": "text/x-python",
   "name": "python",
   "nbconvert_exporter": "python",
   "pygments_lexer": "ipython3",
   "version": "3.9.12"
  }
 },
 "nbformat": 4,
 "nbformat_minor": 5
}
